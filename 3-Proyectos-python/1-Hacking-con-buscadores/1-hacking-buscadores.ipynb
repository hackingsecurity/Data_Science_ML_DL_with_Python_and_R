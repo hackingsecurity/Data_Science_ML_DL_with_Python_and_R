{
 "cells": [
  {
   "cell_type": "markdown",
   "metadata": {},
   "source": [
    "# Proyectos de hacking con buscadores\n",
    "\n",
    "En este proyecto se verán las distintas técnicas del uso de google dors\n",
    "\n",
    "## Paginas de referencia\n",
    "\n",
    "* https://www.exploit-db.com/google-hacking-database\n",
    "\n",
    "\n",
    "## API Rearch\n",
    "\n",
    "### Google\n",
    "\n",
    "* https://developers.google.com/custom-search/v1/overview\n",
    "\n",
    "### DuckDuckGO\n",
    "\n",
    "*  https://serpapi.com/duckduckgo-search-api\n",
    "\n",
    "## Páginas para consultar \n",
    "\n",
    "### Google Dorking\n",
    "\n",
    "* https://derechodelared.com/2022/08/13/google-dorking-que-es/?authuser=1\n",
    "* https://antoniogonzalez.net/google-hacking-46-ejemplos-hacker-contrasenas-usando-google-enemigo-peor/?authuser=1\n",
    "* https://www.stationx.net/Google-Dorks-cheat-sheet/?authuser=0\n",
    "\n",
    "### DuckDuckGo\n",
    "\n",
    "* https://github.com/deedy5/duckduckgo_search\n",
    "\n"
   ]
  },
  {
   "cell_type": "code",
   "execution_count": 3,
   "metadata": {},
   "outputs": [
    {
     "name": "stdout",
     "output_type": "stream",
     "text": [
      "Requirement already satisfied: requests in /home/ssqnsn/Documents/GIT/Python_Data_Science_ML_DL/.conda/lib/python3.11/site-packages (from -r requirements.txt (line 1)) (2.32.3)\n",
      "Requirement already satisfied: dotenv in /home/ssqnsn/Documents/GIT/Python_Data_Science_ML_DL/.conda/lib/python3.11/site-packages (from -r requirements.txt (line 2)) (0.9.9)\n",
      "Requirement already satisfied: charset-normalizer<4,>=2 in /home/ssqnsn/Documents/GIT/Python_Data_Science_ML_DL/.conda/lib/python3.11/site-packages (from requests->-r requirements.txt (line 1)) (3.4.1)\n",
      "Requirement already satisfied: idna<4,>=2.5 in /home/ssqnsn/Documents/GIT/Python_Data_Science_ML_DL/.conda/lib/python3.11/site-packages (from requests->-r requirements.txt (line 1)) (3.10)\n",
      "Requirement already satisfied: urllib3<3,>=1.21.1 in /home/ssqnsn/Documents/GIT/Python_Data_Science_ML_DL/.conda/lib/python3.11/site-packages (from requests->-r requirements.txt (line 1)) (2.3.0)\n",
      "Requirement already satisfied: certifi>=2017.4.17 in /home/ssqnsn/Documents/GIT/Python_Data_Science_ML_DL/.conda/lib/python3.11/site-packages (from requests->-r requirements.txt (line 1)) (2025.1.31)\n",
      "Requirement already satisfied: python-dotenv in /home/ssqnsn/Documents/GIT/Python_Data_Science_ML_DL/.conda/lib/python3.11/site-packages (from dotenv->-r requirements.txt (line 2)) (1.1.0)\n"
     ]
    }
   ],
   "source": [
    "# remove_cell\n",
    "!pip install -r requirements.txt"
   ]
  },
  {
   "cell_type": "code",
   "execution_count": 20,
   "metadata": {},
   "outputs": [],
   "source": [
    "\n",
    "# tag=googlesearch\n",
    "# Instalación de librerias\n",
    "import requests as rq\n",
    "\n"
   ]
  },
  {
   "cell_type": "code",
   "execution_count": 30,
   "metadata": {},
   "outputs": [],
   "source": [
    "\n",
    "# tag=googlesearch\n",
    "class GoogleSearch:\n",
    "    def __init__(self, api_key, engine_id):\n",
    "        \"\"\"\n",
    "            Inicializa una nueva instancia de GoogleSearch\n",
    "            \n",
    "            Esta clase permite realizar peticiones automatizadas a la api de Google.\n",
    "            \n",
    "            api_key (str) : Clave Api de Google\n",
    "            engine_id (str) : Identificador del motor de búsqueda personalizada de Google.\n",
    "            \n",
    "        \"\"\"\n",
    "        \n",
    "        self.api_key = api_key\n",
    "        self.engine_id = engine_id\n",
    "        \n",
    "        \n",
    "    def search(self, query, start_page=1, pages=1, lang=\"lang_es\"):\n",
    "        \"\"\"\n",
    "            Realiza una búsqueda en Google, utilizando su API.\n",
    "            \n",
    "            \n",
    "        \"\"\"\n",
    "        \n",
    "        final_result = []\n",
    "        result_per_page = 10 # google muestra por defecto 10 resultados por página\n",
    "        \n",
    "        for page in range(pages):\n",
    "            \n",
    "            # Calculamos el resultado de comienzo de cada págnia\n",
    "            start_index = (start_page - 1) * result_per_page + 1 + (page * result_per_page)\n",
    "            \n",
    "            urlTarget = f\"https://www.googleapis.com/customsearch/v1?key={secret}&cx={cx}&q={query}&start={start_page}&lr={lang}\"\n",
    "    \n",
    "            response = rq.get(urlTarget)\n",
    "            \n",
    "            if response.status_code == 200:\n",
    "                data = response.json()\n",
    "                result = data.get(\"items\")\n",
    "                cresults = self.custom_results(result)\n",
    "                final_result.extend(cresults)\n",
    "            else:\n",
    "                print(f\"Se ha producido un error\")\n",
    "                break\n",
    "        \n",
    "        return final_result\n",
    "\n",
    "    def custom_results(self, results):\n",
    "\n",
    "        \"\"\" \n",
    "            Filtra los resultado de la consulta\n",
    "        \"\"\"\n",
    "\n",
    "        custom_results = []\n",
    "        \n",
    "        for r in results:\n",
    "            cresult = {}\n",
    "            cresult[\"title\"] = r.get(\"title\")\n",
    "            cresult[\"descripcion\"] = r.get(\"snippet\")\n",
    "            cresult[\"link\"] = r.get(\"link\")\n",
    "            custom_results.append(cresult)   \n",
    "\n",
    "        return custom_results             \n"
   ]
  },
  {
   "cell_type": "code",
   "execution_count": 23,
   "metadata": {
    "scrolled": false
   },
   "outputs": [],
   "source": [
    "\n",
    "# tag=ninjadorks\n",
    "# Librerias\n",
    "import dotenv\n",
    "import os\n",
    "#from googlesearch import GoogleSearch\n"
   ]
  },
  {
   "cell_type": "code",
   "execution_count": 24,
   "metadata": {},
   "outputs": [
    {
     "data": {
      "text/plain": [
       "True"
      ]
     },
     "execution_count": 24,
     "metadata": {},
     "output_type": "execute_result"
    }
   ],
   "source": [
    "\n",
    "# tag=ninjadorks\n",
    "#Cargamos variable de entorno\n",
    "dotenv_path = os.path.expanduser(\"~/.env/.env\")\n",
    "dotenv.load_dotenv(dotenv_path)\n"
   ]
  },
  {
   "cell_type": "code",
   "execution_count": 25,
   "metadata": {},
   "outputs": [],
   "source": [
    "\n",
    "# tag=ninjadorks\n",
    "# Parámetro para consulta\n",
    "start_page = 1\n",
    "query = \"Hacking Etico\"\n",
    "lang = \"lang_es\"  # lang_en\n",
    "secret = os.getenv(\"API_GOOGLE\")\n",
    "cx = os.getenv(\"API_CS\")\n"
   ]
  },
  {
   "cell_type": "code",
   "execution_count": 39,
   "metadata": {},
   "outputs": [
    {
     "name": "stdout",
     "output_type": "stream",
     "text": [
      "[{'title': 'Hacking ético: qué es y para que sirve | TICNegocios', 'descripcion': 'El hacking ético nace como medida para combatir a los piratas informáticos con malas intenciones. Las empresas contratan a estos profesionales porque necesitan\\xa0...', 'link': 'https://ticnegocios.camaravalencia.com/servicios/tendencias/que-es-el-hacking-etico/'}, {'title': 'Descubre qué es el hacking ético | ED2026 | INCIBE', 'descripcion': 'Oct 6, 2023 ... Pensamiento creativo. El fin del hacker ético consiste en conocer las estrategias de los ciberdelincuentes para reproducirlas y así detectar\\xa0...', 'link': 'https://www.incibe.es/ed2026/talento-hacker/blog/descubre-que-es-el-hacking-etico'}, {'title': 'Hacking ético: ¿en qué consiste? - Telefónica', 'descripcion': 'Sep 14, 2023 ... Los hackers éticos son especialistas en seguridad informática, encargados en proteger los datos digitales de una organización e invaden el\\xa0...', 'link': 'https://www.telefonica.com/es/sala-comunicacion/blog/hacking-etico-que-es/'}, {'title': 'Curso Completo de Hacking Ético | Udemy', 'descripcion': 'Comprados juntos con frecuencia · Curso Completo de Hacking Ético. Aprende desde 0 todas las técnicas de hacking éticoCalificación: 4,5 de 54559 reseñas25,5\\xa0...', 'link': 'https://www.udemy.com/course/curso-completo-de-hacking-etico/'}, {'title': '¿Qué es el Hacking Ético y qué objetivos persigue?', 'descripcion': '¿Qué es el Hacking Ético? Cuando hablamos de Hacking nos referimos al intento de acceder a un sistema informático utilizando un conjunto de técnicas que\\xa0...', 'link': 'https://www.campusciberseguridad.com/blog/que-es-el-hacking-etico-que-objetivos-persigue'}, {'title': '¿Qué es el hacking ético?', 'descripcion': 'Mar 10, 2023 ... El hacking ético es una práctica importante en la seguridad informática que se utiliza para detectar y corregir vulnerabilidades en los sistemas\\xa0...', 'link': 'https://u-tad.com/hacking-etico'}, {'title': 'Curso de Hacking Ético [Empieza Gratis]', 'descripcion': 'Jun 24, 2024 ... Curso de Hacking Ético ... Aprende técnicas y herramientas para realizar ataques informáticos a sitios web con el fin de detectar y corregir\\xa0...', 'link': 'https://platzi.com/cursos/ethical-hacking/'}, {'title': 'Hacking ético: ¿qué es y cómo iniciarte en esta disciplina?', 'descripcion': 'Nov 22, 2022 ... El hacking ético o piratería ética consiste en tratar de violar la seguridad del sistema informático de una organización, con autorización\\xa0...', 'link': 'https://ecuador.unir.net/actualidad-unir/hacking-etico/'}, {'title': 'Hacking ético, la mejor prevención de la Ciberseguridad - Iberdrola', 'descripcion': '¿Qué es el hacking ético? El hacking ético busca reforzar la seguridad informática de las empresas. ¿Cómo? Acometiendo ataques supervisados para evaluar la\\xa0...', 'link': 'https://www.iberdrola.com/innovacion/hacking-etico'}, {'title': '5 técnicas de hacking ético para mejorar tu seguridad informática ...', 'descripcion': 'Nov 6, 2023 ... 5 técnicas de hacking ético utilizadas para reforzar la ciberseguridad de tu empresa · 1. Escaneo de vulnerabilidades · 2. Pruebas de\\xa0...', 'link': 'https://www.obsbusiness.school/blog/5-tecnicas-de-hacking-etico-para-mejorar-tu-seguridad-informatica'}, {'title': 'Hacking ético: qué es y para que sirve | TICNegocios', 'descripcion': 'El hacking ético nace como medida para combatir a los piratas informáticos con malas intenciones. Las empresas contratan a estos profesionales porque necesitan\\xa0...', 'link': 'https://ticnegocios.camaravalencia.com/servicios/tendencias/que-es-el-hacking-etico/'}, {'title': 'Descubre qué es el hacking ético | ED2026 | INCIBE', 'descripcion': 'Oct 6, 2023 ... Pensamiento creativo. El fin del hacker ético consiste en conocer las estrategias de los ciberdelincuentes para reproducirlas y así detectar\\xa0...', 'link': 'https://www.incibe.es/ed2026/talento-hacker/blog/descubre-que-es-el-hacking-etico'}, {'title': 'Hacking ético: ¿en qué consiste? - Telefónica', 'descripcion': 'Sep 14, 2023 ... Los hackers éticos son especialistas en seguridad informática, encargados en proteger los datos digitales de una organización e invaden el\\xa0...', 'link': 'https://www.telefonica.com/es/sala-comunicacion/blog/hacking-etico-que-es/'}, {'title': 'Curso Completo de Hacking Ético | Udemy', 'descripcion': 'Comprados juntos con frecuencia · Curso Completo de Hacking Ético. Aprende desde 0 todas las técnicas de hacking éticoCalificación: 4,5 de 54559 reseñas25,5\\xa0...', 'link': 'https://www.udemy.com/course/curso-completo-de-hacking-etico/'}, {'title': '¿Qué es el Hacking Ético y qué objetivos persigue?', 'descripcion': '¿Qué es el Hacking Ético? Cuando hablamos de Hacking nos referimos al intento de acceder a un sistema informático utilizando un conjunto de técnicas que\\xa0...', 'link': 'https://www.campusciberseguridad.com/blog/que-es-el-hacking-etico-que-objetivos-persigue'}, {'title': '¿Qué es el hacking ético?', 'descripcion': 'Mar 10, 2023 ... El hacking ético es una práctica importante en la seguridad informática que se utiliza para detectar y corregir vulnerabilidades en los sistemas\\xa0...', 'link': 'https://u-tad.com/hacking-etico'}, {'title': 'Curso de Hacking Ético [Empieza Gratis]', 'descripcion': 'Jun 24, 2024 ... Curso de Hacking Ético ... Aprende técnicas y herramientas para realizar ataques informáticos a sitios web con el fin de detectar y corregir\\xa0...', 'link': 'https://platzi.com/cursos/ethical-hacking/'}, {'title': 'Hacking ético: ¿qué es y cómo iniciarte en esta disciplina?', 'descripcion': 'Nov 22, 2022 ... El hacking ético o piratería ética consiste en tratar de violar la seguridad del sistema informático de una organización, con autorización\\xa0...', 'link': 'https://ecuador.unir.net/actualidad-unir/hacking-etico/'}, {'title': 'Hacking ético, la mejor prevención de la Ciberseguridad - Iberdrola', 'descripcion': '¿Qué es el hacking ético? El hacking ético busca reforzar la seguridad informática de las empresas. ¿Cómo? Acometiendo ataques supervisados para evaluar la\\xa0...', 'link': 'https://www.iberdrola.com/innovacion/hacking-etico'}, {'title': '5 técnicas de hacking ético para mejorar tu seguridad informática ...', 'descripcion': 'Nov 6, 2023 ... 5 técnicas de hacking ético utilizadas para reforzar la ciberseguridad de tu empresa · 1. Escaneo de vulnerabilidades · 2. Pruebas de\\xa0...', 'link': 'https://www.obsbusiness.school/blog/5-tecnicas-de-hacking-etico-para-mejorar-tu-seguridad-informatica'}]\n"
     ]
    }
   ],
   "source": [
    "\n",
    "# tag=ninjadorks\n",
    "def main():\n",
    "    gsearch = GoogleSearch(secret, cx)\n",
    "    result = gsearch.search(query, pages=2)\n",
    "    print(result)\n",
    "\n",
    "if __name__ == \"__main__\":\n",
    "    main()"
   ]
  },
  {
   "cell_type": "code",
   "execution_count": 21,
   "metadata": {},
   "outputs": [
    {
     "name": "stdout",
     "output_type": "stream",
     "text": [
      "[NbConvertApp] Converting notebook 1-hacking-buscadores.ipynb to script\n",
      "[NbConvertApp] Writing 1949 bytes to 1-hacking-buscadores.py\n"
     ]
    }
   ],
   "source": [
    "# remove cell\n",
    "!jupyter nbconvert --to script 1-hacking-buscadores.ipynb --TagRemovePreprocessor.enabled=True --TagRemovePreprocessor.remove_cell_tags='[\"remove_cell\"]'\n",
    "!sed '/^# In\\[/d;/^#$/d;/^# /d' 1-hacking-buscadores.py > 1-hacking-buscadores_limpio.py\n",
    "!rm 1-hacking-buscadores.py"
   ]
  },
  {
   "cell_type": "code",
   "execution_count": 43,
   "metadata": {},
   "outputs": [
    {
     "name": "stdout",
     "output_type": "stream",
     "text": [
      "[✔] Guardado: exportados_por_tag/googlesearch.py\n",
      "[✔] Guardado: exportados_por_tag/ninjadorks.py\n",
      "[✔] Guardado: exportados_por_tag/ninjadorksninjadorks.py\n"
     ]
    }
   ],
   "source": [
    "# remove cell\n",
    "import json\n",
    "import re\n",
    "from pathlib import Path\n",
    "from collections import defaultdict\n",
    "\n",
    "def exportar_por_tag_y_filtrar(ipynb_path, carpeta_out=\"exportados_por_tag\"):\n",
    "    # Palabras o patrones a excluir completamente\n",
    "    palabras_excluidas = [\"!pip\", \"# dev_only\", \"remove cell\", \"!\"]\n",
    "\n",
    "    def debe_excluir(linea):\n",
    "        return any(\n",
    "            linea.strip().startswith(palabra) or palabra in linea\n",
    "            for palabra in palabras_excluidas\n",
    "        )\n",
    "\n",
    "    with open(ipynb_path, \"r\", encoding=\"utf-8\") as f:\n",
    "        notebook = json.load(f)\n",
    "\n",
    "    Path(carpeta_out).mkdir(exist_ok=True)\n",
    "\n",
    "    bloques_por_tag = defaultdict(list)\n",
    "\n",
    "    for cell in notebook[\"cells\"]:\n",
    "        if cell[\"cell_type\"] != \"code\":\n",
    "            continue\n",
    "\n",
    "        tag_actual = None\n",
    "        lines = cell[\"source\"]\n",
    "\n",
    "        for line in lines:\n",
    "            tag_match = re.match(r\"#\\s*tag\\s*=\\s*(\\w+)\", line.strip())\n",
    "            if tag_match:\n",
    "                tag_actual = tag_match.group(1)\n",
    "                continue  # Saltamos la línea del tag\n",
    "\n",
    "            # Si la celda contiene una línea prohibida → se ignora por completo\n",
    "            if any(debe_excluir(l) for l in lines):\n",
    "                tag_actual = None\n",
    "                break\n",
    "\n",
    "        # Si la celda tiene un tag válido y no fue excluida\n",
    "        if tag_actual:\n",
    "            for line in lines:\n",
    "                if not re.match(r\"#\\s*tag\\s*=\\s*\\w+\", line.strip()) and not debe_excluir(line):\n",
    "                    bloques_por_tag[tag_actual].append(line)\n",
    "\n",
    "    # Escribir los archivos finales\n",
    "    for tag, contenido in bloques_por_tag.items():\n",
    "        path = Path(carpeta_out) / f\"{tag}.py\"\n",
    "        with open(path, \"w\", encoding=\"utf-8\") as f_out:\n",
    "            f_out.write(\"\".join(contenido).strip() + \"\\n\")\n",
    "        print(f\"[✔] Guardado: {path}\")\n",
    "\n",
    "# 🔁 Ejecuta la función\n",
    "exportar_por_tag_y_filtrar(\"1-hacking-buscadores.ipynb\")\n"
   ]
  },
  {
   "cell_type": "code",
   "execution_count": 26,
   "metadata": {},
   "outputs": [],
   "source": [
    "# remove cell\n",
    "import json\n",
    "\n",
    "def exportar_filtrado(ipynb_path, py_path, palabras_excluidas=None):\n",
    "    palabras_excluidas = palabras_excluidas or []\n",
    "    with open(ipynb_path, \"r\") as f:\n",
    "        nb = json.load(f)\n",
    "\n",
    "    with open(py_path, \"w\") as f_out:\n",
    "        for cell in nb[\"cells\"]:\n",
    "            if cell[\"cell_type\"] == \"code\":\n",
    "                source = \"\".join(cell[\"source\"])\n",
    "                if any(palabra in source for palabra in palabras_excluidas):\n",
    "                    continue\n",
    "                f_out.write(source + \"\\n\\n\")\n",
    "\n",
    "exportar_filtrado(\"1-hacking-buscadores.ipynb\", \"1-hacking-buscadores.py\", palabras_excluidas=[\"!pip\", \"# dev_only\" , \"!\", \"remove cell\"])\n",
    "\n"
   ]
  }
 ],
 "metadata": {
  "kernelspec": {
   "display_name": "Python 3",
   "language": "python",
   "name": "python3"
  },
  "language_info": {
   "codemirror_mode": {
    "name": "ipython",
    "version": 3
   },
   "file_extension": ".py",
   "mimetype": "text/x-python",
   "name": "python",
   "nbconvert_exporter": "python",
   "pygments_lexer": "ipython3",
   "version": "3.11.11"
  }
 },
 "nbformat": 4,
 "nbformat_minor": 2
}
