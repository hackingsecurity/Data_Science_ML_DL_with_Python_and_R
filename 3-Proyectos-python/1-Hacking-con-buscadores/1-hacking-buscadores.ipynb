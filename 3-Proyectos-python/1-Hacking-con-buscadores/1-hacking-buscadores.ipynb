{
 "cells": [
  {
   "cell_type": "markdown",
   "metadata": {},
   "source": [
    "# Proyectos de hacking con buscadores\n",
    "\n",
    "En este proyecto se verán las distintas técnicas del uso de google dors\n",
    "\n",
    "## Paginas de referencia\n",
    "\n",
    "* https://www.exploit-db.com/google-hacking-database\n",
    "\n",
    "\n",
    "## Google API Rearch\n",
    "\n",
    "* https://developers.google.com/custom-search/v1/overview"
   ]
  },
  {
   "cell_type": "code",
   "execution_count": 14,
   "metadata": {},
   "outputs": [],
   "source": [
    "!pip install -r requirements.txt"
   ]
  },
  {
   "cell_type": "code",
   "execution_count": 30,
   "metadata": {},
   "outputs": [],
   "source": [
    "import requests as rq\n",
    "import credenciales_api as api"
   ]
  },
  {
   "cell_type": "code",
   "execution_count": 40,
   "metadata": {},
   "outputs": [
    {
     "name": "stdout",
     "output_type": "stream",
     "text": [
      "{'kind': 'customsearch#search', 'url': {'type': 'application/json', 'template': 'https://www.googleapis.com/customsearch/v1?q={searchTerms}&num={count?}&start={startIndex?}&lr={language?}&safe={safe?}&cx={cx?}&sort={sort?}&filter={filter?}&gl={gl?}&cr={cr?}&googlehost={googleHost?}&c2coff={disableCnTwTranslation?}&hq={hq?}&hl={hl?}&siteSearch={siteSearch?}&siteSearchFilter={siteSearchFilter?}&exactTerms={exactTerms?}&excludeTerms={excludeTerms?}&linkSite={linkSite?}&orTerms={orTerms?}&dateRestrict={dateRestrict?}&lowRange={lowRange?}&highRange={highRange?}&searchType={searchType}&fileType={fileType?}&rights={rights?}&imgSize={imgSize?}&imgType={imgType?}&imgColorType={imgColorType?}&imgDominantColor={imgDominantColor?}&alt=json'}, 'queries': {'request': [{'title': 'Google Custom Search - filetype:pdf', 'searchTerms': 'filetype:pdf', 'count': 10, 'startIndex': 1, 'language': 'lang_es', 'inputEncoding': 'utf8', 'outputEncoding': 'utf8', 'safe': 'off', 'cx': '3411cea5765324999'}]}, 'context': {'title': 'test_pruebas'}, 'searchInformation': {'searchTime': 0.253216, 'formattedSearchTime': '0.25', 'totalResults': '0', 'formattedTotalResults': '0'}}\n"
     ]
    }
   ],
   "source": [
    "\n",
    "\n",
    "start_page = 1\n",
    "query = \"filetype:pdf\"\n",
    "lang = \"lang_es\"  # lang_en\n",
    "\n",
    "urlTarget = f\"https://www.googleapis.com/customsearch/v1?key={api.Api_Google.get_api()}&cx={api.Api_Google.get_id()}&q={query}&start={start_page}&lr={lang}\"\n",
    "data = rq.get(urlTarget).json() # lo parseamos a un Json\n",
    "\n",
    "print(data)\n",
    "#print(dir(data))"
   ]
  },
  {
   "cell_type": "code",
   "execution_count": null,
   "metadata": {},
   "outputs": [
    {
     "ename": "AttributeError",
     "evalue": "'dict' object has no attribute 'text'",
     "output_type": "error",
     "traceback": [
      "\u001b[31m---------------------------------------------------------------------------\u001b[39m",
      "\u001b[31mAttributeError\u001b[39m                            Traceback (most recent call last)",
      "\u001b[36mCell\u001b[39m\u001b[36m \u001b[39m\u001b[32mIn[42]\u001b[39m\u001b[32m, line 1\u001b[39m\n\u001b[32m----> \u001b[39m\u001b[32m1\u001b[39m \u001b[38;5;28mprint\u001b[39m(\u001b[43mdata\u001b[49m\u001b[43m.\u001b[49m\u001b[43mtext\u001b[49m)\n",
      "\u001b[31mAttributeError\u001b[39m: 'dict' object has no attribute 'text'"
     ]
    }
   ],
   "source": [
    "#ver las claves del diccionario\n",
    "print(dir(data))"
   ]
  },
  {
   "cell_type": "code",
   "execution_count": null,
   "metadata": {},
   "outputs": [],
   "source": [
    "\n",
    "\n"
   ]
  }
 ],
 "metadata": {
  "kernelspec": {
   "display_name": "Python 3",
   "language": "python",
   "name": "python3"
  },
  "language_info": {
   "codemirror_mode": {
    "name": "ipython",
    "version": 3
   },
   "file_extension": ".py",
   "mimetype": "text/x-python",
   "name": "python",
   "nbconvert_exporter": "python",
   "pygments_lexer": "ipython3",
   "version": "3.11.11"
  }
 },
 "nbformat": 4,
 "nbformat_minor": 2
}
