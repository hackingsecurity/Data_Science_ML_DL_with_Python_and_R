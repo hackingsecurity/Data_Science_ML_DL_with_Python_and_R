{
 "cells": [
  {
   "cell_type": "markdown",
   "id": "761ceb86-f18d-4970-87d7-a6361a9a593b",
   "metadata": {},
   "source": [
    "# Syntax and semantics\n",
    "\n",
    "La sintaxis va corresponder a un conjunto de reglas que van a definir la combinación de simbolos que se van a considerar válidos en el lenguaje.\n",
    "\n",
    "La semántica proporciona un significado determinado a esas combinaciones de símbolos que son sintácticamente válidas\n",
    "\n",
    "print(\"Hola mundo\") -> sintaxis del lenguaje de programación -> combinación de símbolos que es adecuada\n",
    "\n",
    "El interpretar este print como una función y la cadena de caracteres es lo que llamaremos semántica que le da un significado concreto.\n"
   ]
  },
  {
   "cell_type": "markdown",
   "id": "a6952af5",
   "metadata": {},
   "source": [
    "## Información sobre propiedades y métodos"
   ]
  },
  {
   "cell_type": "code",
   "execution_count": 1,
   "id": "761aa195",
   "metadata": {},
   "outputs": [],
   "source": [
    "#Conocer los parámetros de print\n",
    "#print(help(print))\n",
    "\n",
    "#print(help(dict))\n",
    "\n",
    "#print(help(tupla))"
   ]
  },
  {
   "cell_type": "code",
   "execution_count": 2,
   "id": "03be3fde",
   "metadata": {},
   "outputs": [],
   "source": [
    "# Métodos y atributos disponibles para un objeto\n",
    "#print(dir(str))\n",
    "\n",
    "#print(help(str))"
   ]
  },
  {
   "cell_type": "code",
   "execution_count": 66,
   "id": "2ffd6ab4-a43b-4b84-9dab-9dc0f949da59",
   "metadata": {},
   "outputs": [
    {
     "name": "stdout",
     "output_type": "stream",
     "text": [
      "hi - world"
     ]
    }
   ],
   "source": [
    "print(\"hi\",\"world\", sep=\" - \", end=\"\") "
   ]
  },
  {
   "cell_type": "code",
   "execution_count": 67,
   "id": "13885b69",
   "metadata": {},
   "outputs": [
    {
     "name": "stdout",
     "output_type": "stream",
     "text": [
      "Prueba\n",
      "multi\n",
      "linea\n"
     ]
    }
   ],
   "source": [
    "print(\"Prueba\\n\"\n",
    "         \"multi\\n\"\n",
    "         \"linea\")"
   ]
  },
  {
   "cell_type": "code",
   "execution_count": 68,
   "id": "98c00079",
   "metadata": {},
   "outputs": [
    {
     "name": "stdout",
     "output_type": "stream",
     "text": [
      "El ganador es el nº 10 y tendrá la oportunidad de hacer hola mundo\n"
     ]
    }
   ],
   "source": [
    "#uso de \"f\" para formatear la salida\n",
    "var1 = 10\n",
    "var2 = \"hola mundo\"\n",
    "print(f\"El ganador es el nº {var1} y tendrá la oportunidad de hacer {var2}\")"
   ]
  },
  {
   "cell_type": "markdown",
   "id": "efc14d92",
   "metadata": {},
   "source": [
    "# Entrada de datos\n"
   ]
  },
  {
   "cell_type": "code",
   "execution_count": 3,
   "id": "8764cd1a",
   "metadata": {},
   "outputs": [
    {
     "name": "stdout",
     "output_type": "stream",
     "text": [
      "Introduce tu nombre Ender\n",
      "Hola Ender\n"
     ]
    }
   ],
   "source": [
    "variable_entrada = input(\"Introduce tu nombre \")\n",
    "print(\"Hola\", variable_entrada)"
   ]
  },
  {
   "cell_type": "markdown",
   "id": "52fc131b",
   "metadata": {},
   "source": [
    "# Tipos de datos\n",
    "\n",
    "Es importante conocer los tipos de datos con los que trabajamos y en python podemos conocer el tipo mediante la función que tiene interna type()"
   ]
  },
  {
   "cell_type": "code",
   "execution_count": 4,
   "id": "1f139f52",
   "metadata": {},
   "outputs": [
    {
     "name": "stdout",
     "output_type": "stream",
     "text": [
      "<class 'int'>\n",
      "<class 'float'>\n",
      "<class 'str'>\n"
     ]
    }
   ],
   "source": [
    "print(type(10)) \n",
    "print(type(10.0))\n",
    "print(type(\"10\")) #-> Strings -> conjunto de caracteres"
   ]
  },
  {
   "cell_type": "markdown",
   "id": "0278608a",
   "metadata": {},
   "source": [
    "# Comentarios\n",
    "\n",
    "Buena práctica que debemos seguir siempre\n",
    "\n"
   ]
  },
  {
   "cell_type": "code",
   "execution_count": 5,
   "id": "a037649f",
   "metadata": {},
   "outputs": [],
   "source": [
    "# Comentario en python -> se interpreta como texto\n",
    "\n"
   ]
  },
  {
   "cell_type": "markdown",
   "id": "451430d3",
   "metadata": {},
   "source": [
    "# Listas, tuplas y Diccionarios\n",
    "\n",
    "Las listas son un tipo de datos complejos en python y corresponde con un conjunto arbitrario de valores, donde puede tener:\n",
    "\n",
    "* Collección de strings\n",
    "* Collección de números\n",
    "* Tener otras listas \n",
    "\n",
    "Respecta el orden\n",
    "\n",
    "Las tuplas son muy parecidas a las listas, con la particularidad de que son inmutables. Se utilizar en:\n",
    "\n",
    "* Al ser inmutable los datos se ejecutan más rapido\n",
    "* Si los valores van a permanecer constantes en la ejecución del un programa\n",
    "* Combinación con diccionarios\n",
    "\n",
    "Los diccinarios son unos de los datos complejos más utilizado y se caracterizan por \"clave-valor\", donde la clave es un valor inmutables y los strings son un tipo que es inmutable.\n",
    "\n",
    "* La clave es inmutable\n",
    "* El valor puede modificarse\n",
    "\n",
    "\n",
    "Además aplicaremos de forma específica estas propiedas a cada unos de conjuntos que vamos a ver:\n",
    "\n",
    "* Indexing -> acceder a un único elemento de una secuencia, usando su posición\n",
    "    * lista[0] -> accedemos a la posición\n",
    "* Slicing -> Obtener una subsecuencia (una porción) usando el formato\n",
    "* Stride -> Es el paso que avanza al slicing -> secuencia[inicio:fin:paso]"
   ]
  },
  {
   "cell_type": "code",
   "execution_count": 6,
   "id": "7b2fd92a",
   "metadata": {},
   "outputs": [
    {
     "name": "stdout",
     "output_type": "stream",
     "text": [
      "['tarea1', 'tarea2', 'tarea3', 'tarea4'] <class 'list'>\n",
      "[1, 2, 3, 4, 5] <class 'list'>\n",
      "['tarea1', 3, 'otra cosa', 5] <class 'list'>\n",
      "[1, 2, 3, ['tarea2', 3, 'hola']] <class 'list'>\n",
      "tarea2\n",
      "t\n",
      "tarea4\n",
      "['tarea2', 'tarea3', 'tarea4']\n",
      "['tarea1', 'tarea3']\n",
      "['tarea_terminada', 'tarea2', 'tarea3', 'tarea4']\n"
     ]
    }
   ],
   "source": [
    "# Listas\n",
    "lista = [\"tarea1\",\"tarea2\", \"tarea3\", \"tarea4\"]\n",
    "print(lista, type(lista))\n",
    "\n",
    "lista_numero = [1,2,3,4,5]\n",
    "print(lista_numero, type(lista_numero))\n",
    "\n",
    "lista_combinada = [\"tarea1\", 3, \"otra cosa\", 5]\n",
    "print(lista_combinada, type(lista_combinada))\n",
    "\n",
    "lista_combinada2 = [1,2,3,[\"tarea2\", 3, \"hola\"]]\n",
    "print(lista_combinada2, type(lista_combinada2))\n",
    "\n",
    "\n",
    "# Indexing\n",
    "\n",
    "print(lista[1]) # Accedemos a la segunda posición \n",
    "print(lista[1][0]) # Accedemos a la segunda posición y a la primera posición del string\n",
    "\n",
    "print(lista[-1]) # Accedemos a la última posición de la lista\n",
    "\n",
    "\n",
    "# Slicing\n",
    "\n",
    "print(lista[1:4]) # Se incluye el primer elemento pero no se incluye el último\n",
    "\n",
    "# Stride\n",
    "\n",
    "print(lista[0::2]) # Empieza desde cero y va dando salto de dos\n",
    "\n",
    "\n",
    "# asignación de valores\n",
    "\n",
    "lista[0] = \"tarea_terminada\"\n",
    "\n",
    "print(lista)\n"
   ]
  },
  {
   "cell_type": "code",
   "execution_count": 7,
   "id": "fd265ab7",
   "metadata": {},
   "outputs": [
    {
     "name": "stdout",
     "output_type": "stream",
     "text": [
      "('tarea1', 'tarea2', 'tarea3') <class 'tuple'>\n",
      "a\n",
      "('tarea1', 'tarea2', 'tarea3')\n",
      "('tarea1', 'tarea3')\n"
     ]
    },
    {
     "ename": "TypeError",
     "evalue": "'tuple' object does not support item assignment",
     "output_type": "error",
     "traceback": [
      "\u001b[0;31m---------------------------------------------------------------------------\u001b[0m",
      "\u001b[0;31mTypeError\u001b[0m                                 Traceback (most recent call last)",
      "Cell \u001b[0;32mIn[7], line 21\u001b[0m\n\u001b[1;32m     15\u001b[0m \u001b[38;5;28mprint\u001b[39m(tupla[\u001b[38;5;241m0\u001b[39m::\u001b[38;5;241m2\u001b[39m]) \u001b[38;5;66;03m# damos salto de dos\u001b[39;00m\n\u001b[1;32m     18\u001b[0m \u001b[38;5;66;03m# Asignación de valores\u001b[39;00m\n\u001b[0;32m---> 21\u001b[0m \u001b[43mtupla\u001b[49m\u001b[43m[\u001b[49m\u001b[38;5;241;43m0\u001b[39;49m\u001b[43m]\u001b[49m \u001b[38;5;241m=\u001b[39m \u001b[38;5;124m\"\u001b[39m\u001b[38;5;124mtarea_terminada\u001b[39m\u001b[38;5;124m\"\u001b[39m \u001b[38;5;66;03m# es un objeto inmutable\u001b[39;00m\n",
      "\u001b[0;31mTypeError\u001b[0m: 'tuple' object does not support item assignment"
     ]
    }
   ],
   "source": [
    "# Tupla\n",
    "tupla = (\"tarea1\", \"tarea2\", \"tarea3\")\n",
    "print(tupla, type(tupla))\n",
    "\n",
    "# Indexing\n",
    "\n",
    "print(tupla[1][1]) # Accedemos ala posición 2 de la tupla y a la segunda posición de ese elemento\n",
    "\n",
    "# Slicing\n",
    "\n",
    "print(tupla[0:3]) # mostramos toda la lista\n",
    "\n",
    "# Stride\n",
    "\n",
    "print(tupla[0::2]) # damos salto de dos\n",
    "\n",
    "\n",
    "# Asignación de valores\n",
    "\n",
    "\n",
    "tupla[0] = \"tarea_terminada\" # es un objeto inmutable"
   ]
  },
  {
   "cell_type": "code",
   "execution_count": 8,
   "id": "2626ecf1",
   "metadata": {
    "scrolled": true
   },
   "outputs": [
    {
     "name": "stdout",
     "output_type": "stream",
     "text": [
      "{'tarea1': [1, 2, 3, 4], 'tarea2': 'en proceso', 'tarea3': 0} <class 'dict'>\n",
      "2\n",
      "['tarea1', 'tarea2', 'tarea3']\n"
     ]
    },
    {
     "data": {
      "text/plain": [
       "['tarea1', 'tarea3']"
      ]
     },
     "execution_count": 8,
     "metadata": {},
     "output_type": "execute_result"
    }
   ],
   "source": [
    "# Diccionario\n",
    "diccionario = {\n",
    "    \"tarea1\": [1,2,3,4],\n",
    "    \"tarea2\": \"en proceso\",\n",
    "    \"tarea3\": 0\n",
    "}\n",
    "print(diccionario, type(diccionario))\n",
    "\n",
    "# Indexing\n",
    "\n",
    "print(diccionario[\"tarea1\"][1]) # Importante que debemos accede por clave\n",
    "\n",
    "# Slicing -> No soportado\n",
    "\n",
    "keys = list(diccionario.keys()) # Podemos crear una lista de las claves para poder usar Slicing\n",
    "print(keys[0:])\n",
    "\n",
    "# Stride -> No soportado\n",
    "\n",
    "keys[0::2]\n"
   ]
  },
  {
   "cell_type": "markdown",
   "id": "10c50cf9",
   "metadata": {},
   "source": [
    "# Operadores Aritméticos, Comparaciones y Asignación"
   ]
  },
  {
   "cell_type": "code",
   "execution_count": 9,
   "id": "37e630c5",
   "metadata": {},
   "outputs": [
    {
     "ename": "SyntaxError",
     "evalue": "invalid syntax (2615802113.py, line 3)",
     "output_type": "error",
     "traceback": [
      "\u001b[0;36m  Cell \u001b[0;32mIn[9], line 3\u001b[0;36m\u001b[0m\n\u001b[0;31m    +  # POdemos usarlo para número, string(concatenación), listas(concatenación)\u001b[0m\n\u001b[0m       ^\u001b[0m\n\u001b[0;31mSyntaxError\u001b[0m\u001b[0;31m:\u001b[0m invalid syntax\n"
     ]
    }
   ],
   "source": [
    "# Operadores aritméticos\n",
    "\n",
    "+  # POdemos usarlo para número, string(concatenación), listas(concatenación)\n",
    "<,<=, >, >=, == # Desbloquea los booleanos, usarlos con número, string\n",
    "+=, -=, etc "
   ]
  },
  {
   "cell_type": "code",
   "execution_count": 10,
   "id": "24079b40",
   "metadata": {},
   "outputs": [
    {
     "name": "stdout",
     "output_type": "stream",
     "text": [
      "True\n",
      "False\n",
      "True\n",
      "True\n"
     ]
    }
   ],
   "source": [
    "# Operadores de pertenencia\n",
    "\n",
    "string_1 = \"Texto1\"\n",
    "string_2 = \"Texto2\"\n",
    "\n",
    "print(\"T\" in string_1)\n",
    "print(\"H\" in string_2)\n",
    "\n",
    "print(\"u\" not in string_1)\n",
    "\n",
    "\n",
    "dic_1 = {\"clave1\": \"valor1\", \"clave2\": \"valor2\"} # Solo mira en las claves\n",
    "\n",
    "print(\"clave2\" in dic_1)\n",
    "\n"
   ]
  },
  {
   "cell_type": "code",
   "execution_count": 11,
   "id": "26ef5826",
   "metadata": {},
   "outputs": [
    {
     "name": "stdout",
     "output_type": "stream",
     "text": [
      "True\n",
      "False\n",
      "False\n"
     ]
    }
   ],
   "source": [
    "# Operadores lógicos\n",
    "\n",
    "print(string_1 < string_2 or \"T\" in string_1)\n",
    "print(string_2 < string_1 and \"T\" in string_1)\n",
    "\n",
    "print(not (string_1 < string_2)) # negamos lo que nos de"
   ]
  },
  {
   "cell_type": "code",
   "execution_count": 12,
   "id": "a80c1c54",
   "metadata": {},
   "outputs": [
    {
     "name": "stdout",
     "output_type": "stream",
     "text": [
      "True\n"
     ]
    }
   ],
   "source": [
    "# Operadores de identidad -> comparar objetos, si son la misma variable\n",
    "\n",
    "print(type(string_1) is str)"
   ]
  },
  {
   "cell_type": "markdown",
   "id": "c3d34cf6",
   "metadata": {},
   "source": [
    "# Control de Flujo "
   ]
  },
  {
   "cell_type": "code",
   "execution_count": 13,
   "id": "57518ad2",
   "metadata": {},
   "outputs": [],
   "source": [
    "## If-elif-else"
   ]
  },
  {
   "cell_type": "code",
   "execution_count": 14,
   "id": "c0af2db2",
   "metadata": {},
   "outputs": [
    {
     "name": "stdout",
     "output_type": "stream",
     "text": [
      "Tienes 30\n"
     ]
    }
   ],
   "source": [
    "\n",
    "edad = 30\n",
    "\n",
    "if edad > 30:\n",
    "    print(\"Es mayor de 30\")\n",
    "elif edad < 30:\n",
    "    print(\"Es mayor de 30\")\n",
    "else:\n",
    "    print(\"Tienes 30\")\n",
    "    \n"
   ]
  },
  {
   "cell_type": "code",
   "execution_count": 15,
   "id": "5e44ec9f",
   "metadata": {},
   "outputs": [],
   "source": [
    "## Bucles For, while, break, Continue, Range"
   ]
  },
  {
   "cell_type": "code",
   "execution_count": 16,
   "id": "2a90b54e",
   "metadata": {},
   "outputs": [
    {
     "name": "stdout",
     "output_type": "stream",
     "text": [
      "tarea1\n",
      "tarea2\n",
      "tarea3\n",
      "tarea4\n",
      "clave1\n",
      "clave2\n",
      "<class 'list_iterator'>\n",
      "tarea1\n",
      "tarea2\n",
      "tarea3\n",
      "tarea4\n",
      "9\n",
      "8\n",
      "7\n",
      "6\n",
      "5\n",
      "4\n",
      "3\n",
      "2\n",
      "1\n",
      "0\n"
     ]
    }
   ],
   "source": [
    "lista = [\"tarea1\", \"tarea2\", \"tarea3\", \"tarea4\"]\n",
    "dic_1 = {\"clave1\": \"valor1\", \"clave2\": \"valor2\"}\n",
    "\n",
    "# For\n",
    "\n",
    "#for [varible] in  [objeto_iterable]:\n",
    "#    [secuencia]\n",
    "\n",
    "for tarea in lista:\n",
    "    print(tarea)\n",
    "    \n",
    "for tarea in dic_1:\n",
    "    print(tarea)\n",
    "    \n",
    "lista_tarea_iterator = iter(lista)\n",
    "print(type(lista_tarea_iterator))\n",
    "\n",
    "for num in range(0, len(lista)):\n",
    "    print(next(lista_tarea_iterator))\n",
    "\n",
    "\n",
    "# While\n",
    "\n",
    "num = 10\n",
    "while num > 0:\n",
    "    num -= 1\n",
    "    print(num)"
   ]
  },
  {
   "cell_type": "code",
   "execution_count": 17,
   "id": "d943dd97",
   "metadata": {},
   "outputs": [],
   "source": [
    "# Funciones: Parámetros, Argumentos, Return, Docstrings ss"
   ]
  },
  {
   "cell_type": "code",
   "execution_count": null,
   "id": "854904d7",
   "metadata": {},
   "outputs": [],
   "source": []
  }
 ],
 "metadata": {
  "kernelspec": {
   "display_name": "Python 3 (ipykernel)",
   "language": "python",
   "name": "python3"
  },
  "language_info": {
   "codemirror_mode": {
    "name": "ipython",
    "version": 3
   },
   "file_extension": ".py",
   "mimetype": "text/x-python",
   "name": "python",
   "nbconvert_exporter": "python",
   "pygments_lexer": "ipython3",
   "version": "3.12.3"
  }
 },
 "nbformat": 4,
 "nbformat_minor": 5
}
