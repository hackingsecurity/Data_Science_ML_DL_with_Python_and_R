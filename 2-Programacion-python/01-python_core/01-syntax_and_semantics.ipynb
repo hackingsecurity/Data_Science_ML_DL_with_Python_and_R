{
 "cells": [
  {
   "cell_type": "markdown",
   "id": "761ceb86-f18d-4970-87d7-a6361a9a593b",
   "metadata": {},
   "source": [
    "# Syntax and semantics\n",
    "\n",
    "La sintaxis va corresponder a un conjunto de reglas que van a definir la combinación de simbolos que se van a considerar válidos en el lenguaje.\n",
    "\n",
    "La semántica proporciona un significado determinado a esas combinaciones de símbolos que son sintácticamente válidas\n",
    "\n",
    "print(\"Hola mundo\") -> sintaxis del lenguaje de programación -> combinación de símbolos que es adecuada\n",
    "\n",
    "El interpretar este print como una función y la cadena de caracteres es lo que llamaremos semántica que le da un significado concreto.\n"
   ]
  },
  {
   "cell_type": "markdown",
   "id": "a6952af5",
   "metadata": {},
   "source": [
    "## Información sobre propiedades y métodos"
   ]
  },
  {
   "cell_type": "code",
   "execution_count": 62,
   "id": "761aa195",
   "metadata": {},
   "outputs": [
    {
     "name": "stdout",
     "output_type": "stream",
     "text": [
      "Help on class list in module builtins:\n",
      "\n",
      "class list(object)\n",
      " |  list(iterable=(), /)\n",
      " |\n",
      " |  Built-in mutable sequence.\n",
      " |\n",
      " |  If no argument is given, the constructor creates a new empty list.\n",
      " |  The argument must be an iterable if specified.\n",
      " |\n",
      " |  Methods defined here:\n",
      " |\n",
      " |  __add__(self, value, /)\n",
      " |      Return self+value.\n",
      " |\n",
      " |  __contains__(self, key, /)\n",
      " |      Return bool(key in self).\n",
      " |\n",
      " |  __delitem__(self, key, /)\n",
      " |      Delete self[key].\n",
      " |\n",
      " |  __eq__(self, value, /)\n",
      " |      Return self==value.\n",
      " |\n",
      " |  __ge__(self, value, /)\n",
      " |      Return self>=value.\n",
      " |\n",
      " |  __getattribute__(self, name, /)\n",
      " |      Return getattr(self, name).\n",
      " |\n",
      " |  __getitem__(self, index, /)\n",
      " |      Return self[index].\n",
      " |\n",
      " |  __gt__(self, value, /)\n",
      " |      Return self>value.\n",
      " |\n",
      " |  __iadd__(self, value, /)\n",
      " |      Implement self+=value.\n",
      " |\n",
      " |  __imul__(self, value, /)\n",
      " |      Implement self*=value.\n",
      " |\n",
      " |  __init__(self, /, *args, **kwargs)\n",
      " |      Initialize self.  See help(type(self)) for accurate signature.\n",
      " |\n",
      " |  __iter__(self, /)\n",
      " |      Implement iter(self).\n",
      " |\n",
      " |  __le__(self, value, /)\n",
      " |      Return self<=value.\n",
      " |\n",
      " |  __len__(self, /)\n",
      " |      Return len(self).\n",
      " |\n",
      " |  __lt__(self, value, /)\n",
      " |      Return self<value.\n",
      " |\n",
      " |  __mul__(self, value, /)\n",
      " |      Return self*value.\n",
      " |\n",
      " |  __ne__(self, value, /)\n",
      " |      Return self!=value.\n",
      " |\n",
      " |  __repr__(self, /)\n",
      " |      Return repr(self).\n",
      " |\n",
      " |  __reversed__(self, /)\n",
      " |      Return a reverse iterator over the list.\n",
      " |\n",
      " |  __rmul__(self, value, /)\n",
      " |      Return value*self.\n",
      " |\n",
      " |  __setitem__(self, key, value, /)\n",
      " |      Set self[key] to value.\n",
      " |\n",
      " |  __sizeof__(self, /)\n",
      " |      Return the size of the list in memory, in bytes.\n",
      " |\n",
      " |  append(self, object, /)\n",
      " |      Append object to the end of the list.\n",
      " |\n",
      " |  clear(self, /)\n",
      " |      Remove all items from list.\n",
      " |\n",
      " |  copy(self, /)\n",
      " |      Return a shallow copy of the list.\n",
      " |\n",
      " |  count(self, value, /)\n",
      " |      Return number of occurrences of value.\n",
      " |\n",
      " |  extend(self, iterable, /)\n",
      " |      Extend list by appending elements from the iterable.\n",
      " |\n",
      " |  index(self, value, start=0, stop=9223372036854775807, /)\n",
      " |      Return first index of value.\n",
      " |\n",
      " |      Raises ValueError if the value is not present.\n",
      " |\n",
      " |  insert(self, index, object, /)\n",
      " |      Insert object before index.\n",
      " |\n",
      " |  pop(self, index=-1, /)\n",
      " |      Remove and return item at index (default last).\n",
      " |\n",
      " |      Raises IndexError if list is empty or index is out of range.\n",
      " |\n",
      " |  remove(self, value, /)\n",
      " |      Remove first occurrence of value.\n",
      " |\n",
      " |      Raises ValueError if the value is not present.\n",
      " |\n",
      " |  reverse(self, /)\n",
      " |      Reverse *IN PLACE*.\n",
      " |\n",
      " |  sort(self, /, *, key=None, reverse=False)\n",
      " |      Sort the list in ascending order and return None.\n",
      " |\n",
      " |      The sort is in-place (i.e. the list itself is modified) and stable (i.e. the\n",
      " |      order of two equal elements is maintained).\n",
      " |\n",
      " |      If a key function is given, apply it once to each list item and sort them,\n",
      " |      ascending or descending, according to their function values.\n",
      " |\n",
      " |      The reverse flag can be set to sort in descending order.\n",
      " |\n",
      " |  ----------------------------------------------------------------------\n",
      " |  Class methods defined here:\n",
      " |\n",
      " |  __class_getitem__(...)\n",
      " |      See PEP 585\n",
      " |\n",
      " |  ----------------------------------------------------------------------\n",
      " |  Static methods defined here:\n",
      " |\n",
      " |  __new__(*args, **kwargs)\n",
      " |      Create and return a new object.  See help(type) for accurate signature.\n",
      " |\n",
      " |  ----------------------------------------------------------------------\n",
      " |  Data and other attributes defined here:\n",
      " |\n",
      " |  __hash__ = None\n",
      "\n",
      "None\n"
     ]
    }
   ],
   "source": [
    "#Conocer los parámetros de print\n",
    "print(help(list))\n",
    "\n",
    "#print(help(dict))\n",
    "\n",
    "#print(help(tupla))"
   ]
  },
  {
   "cell_type": "code",
   "execution_count": 60,
   "id": "03be3fde",
   "metadata": {},
   "outputs": [
    {
     "name": "stdout",
     "output_type": "stream",
     "text": [
      "['__add__', '__class__', '__class_getitem__', '__contains__', '__delattr__', '__delitem__', '__dir__', '__doc__', '__eq__', '__format__', '__ge__', '__getattribute__', '__getitem__', '__getstate__', '__gt__', '__hash__', '__iadd__', '__imul__', '__init__', '__init_subclass__', '__iter__', '__le__', '__len__', '__lt__', '__mul__', '__ne__', '__new__', '__reduce__', '__reduce_ex__', '__repr__', '__reversed__', '__rmul__', '__setattr__', '__setitem__', '__sizeof__', '__str__', '__subclasshook__', 'append', 'clear', 'copy', 'count', 'extend', 'index', 'insert', 'pop', 'remove', 'reverse', 'sort']\n"
     ]
    }
   ],
   "source": [
    "# Métodos y atributos disponibles para un objeto\n",
    "print(dir(list))\n",
    "\n",
    "#print(help(str))"
   ]
  },
  {
   "cell_type": "code",
   "execution_count": 1,
   "id": "ef1fc1d1",
   "metadata": {},
   "outputs": [
    {
     "name": "stdout",
     "output_type": "stream",
     "text": [
      "[('__add__', <slot wrapper '__add__' of 'list' objects>), ('__class__', <class 'type'>), ('__class_getitem__', <built-in method __class_getitem__ of type object at 0xa3a8a0>), ('__contains__', <slot wrapper '__contains__' of 'list' objects>), ('__delattr__', <slot wrapper '__delattr__' of 'object' objects>), ('__delitem__', <slot wrapper '__delitem__' of 'list' objects>), ('__dir__', <method '__dir__' of 'object' objects>), ('__doc__', 'Built-in mutable sequence.\\n\\nIf no argument is given, the constructor creates a new empty list.\\nThe argument must be an iterable if specified.'), ('__eq__', <slot wrapper '__eq__' of 'list' objects>), ('__format__', <method '__format__' of 'object' objects>), ('__ge__', <slot wrapper '__ge__' of 'list' objects>), ('__getattribute__', <slot wrapper '__getattribute__' of 'list' objects>), ('__getitem__', <method '__getitem__' of 'list' objects>), ('__getstate__', <method '__getstate__' of 'object' objects>), ('__gt__', <slot wrapper '__gt__' of 'list' objects>), ('__hash__', None), ('__iadd__', <slot wrapper '__iadd__' of 'list' objects>), ('__imul__', <slot wrapper '__imul__' of 'list' objects>), ('__init__', <slot wrapper '__init__' of 'list' objects>), ('__init_subclass__', <built-in method __init_subclass__ of type object at 0xa3a8a0>), ('__iter__', <slot wrapper '__iter__' of 'list' objects>), ('__le__', <slot wrapper '__le__' of 'list' objects>), ('__len__', <slot wrapper '__len__' of 'list' objects>), ('__lt__', <slot wrapper '__lt__' of 'list' objects>), ('__mul__', <slot wrapper '__mul__' of 'list' objects>), ('__ne__', <slot wrapper '__ne__' of 'list' objects>), ('__new__', <built-in method __new__ of type object at 0xa3a8a0>), ('__reduce__', <method '__reduce__' of 'object' objects>), ('__reduce_ex__', <method '__reduce_ex__' of 'object' objects>), ('__repr__', <slot wrapper '__repr__' of 'list' objects>), ('__reversed__', <method '__reversed__' of 'list' objects>), ('__rmul__', <slot wrapper '__rmul__' of 'list' objects>), ('__setattr__', <slot wrapper '__setattr__' of 'object' objects>), ('__setitem__', <slot wrapper '__setitem__' of 'list' objects>), ('__sizeof__', <method '__sizeof__' of 'list' objects>), ('__str__', <slot wrapper '__str__' of 'object' objects>), ('__subclasshook__', <built-in method __subclasshook__ of type object at 0xa3a8a0>), ('append', <method 'append' of 'list' objects>), ('clear', <method 'clear' of 'list' objects>), ('copy', <method 'copy' of 'list' objects>), ('count', <method 'count' of 'list' objects>), ('extend', <method 'extend' of 'list' objects>), ('index', <method 'index' of 'list' objects>), ('insert', <method 'insert' of 'list' objects>), ('pop', <method 'pop' of 'list' objects>), ('remove', <method 'remove' of 'list' objects>), ('reverse', <method 'reverse' of 'list' objects>), ('sort', <method 'sort' of 'list' objects>)]\n",
      "(a, b)\n",
      "None\n"
     ]
    }
   ],
   "source": [
    "import inspect\n",
    "\n",
    "print(inspect.getmembers(list))\n",
    "\n",
    "\n",
    "def ejemplo(a,b):\n",
    "    return a + b\n",
    "\n",
    "\n",
    "print(inspect.signature(ejemplo))\n",
    "\n",
    "print(inspect.getdoc(ejemplo))"
   ]
  },
  {
   "cell_type": "markdown",
   "id": "3c5e7f46",
   "metadata": {},
   "source": [
    "### depurar en jupyter\n",
    "\n",
    "Aquí puedes introducir comandos para inspeccionar las variables o continuar con la ejecución:\n",
    "\n",
    "    n (next): Ejecuta la siguiente línea de código.\n",
    "\n",
    "    s (step): Entra en la función llamada si la hay.\n",
    "\n",
    "    c (continue): Continúa la ejecución hasta el siguiente punto de interrupción.\n",
    "\n",
    "    p variable: Muestra el valor de una variable (por ejemplo, p x).\n",
    "\n",
    "    q (quit): Sale del depurador y termina la ejecución del programa."
   ]
  },
  {
   "cell_type": "code",
   "execution_count": 3,
   "id": "47358731",
   "metadata": {},
   "outputs": [
    {
     "name": "stdout",
     "output_type": "stream",
     "text": [
      "> \u001b[0;32m/tmp/ipykernel_6032/2217219845.py\u001b[0m(5)\u001b[0;36mcalcular_suma\u001b[0;34m()\u001b[0m\n",
      "\u001b[0;32m      3 \u001b[0;31m\u001b[0;32mdef\u001b[0m \u001b[0mcalcular_suma\u001b[0m\u001b[0;34m(\u001b[0m\u001b[0ma\u001b[0m\u001b[0;34m,\u001b[0m\u001b[0mb\u001b[0m\u001b[0;34m)\u001b[0m\u001b[0;34m:\u001b[0m\u001b[0;34m\u001b[0m\u001b[0;34m\u001b[0m\u001b[0m\n",
      "\u001b[0m\u001b[0;32m      4 \u001b[0;31m    \u001b[0mpdb\u001b[0m\u001b[0;34m.\u001b[0m\u001b[0mset_trace\u001b[0m\u001b[0;34m(\u001b[0m\u001b[0;34m)\u001b[0m \u001b[0;31m# Pausa la ejecución aquí\u001b[0m\u001b[0;34m\u001b[0m\u001b[0;34m\u001b[0m\u001b[0m\n",
      "\u001b[0m\u001b[0;32m----> 5 \u001b[0;31m    \u001b[0msuma\u001b[0m \u001b[0;34m=\u001b[0m \u001b[0ma\u001b[0m \u001b[0;34m+\u001b[0m \u001b[0mb\u001b[0m\u001b[0;34m\u001b[0m\u001b[0;34m\u001b[0m\u001b[0m\n",
      "\u001b[0m\u001b[0;32m      6 \u001b[0;31m    \u001b[0;32mreturn\u001b[0m \u001b[0msuma\u001b[0m\u001b[0;34m\u001b[0m\u001b[0;34m\u001b[0m\u001b[0m\n",
      "\u001b[0m\u001b[0;32m      7 \u001b[0;31m\u001b[0;34m\u001b[0m\u001b[0m\n",
      "\u001b[0m\n",
      "ipdb> suma\n",
      "*** NameError: name 'suma' is not defined\n",
      "ipdb> a\n",
      "a = 2\n",
      "b = 3\n",
      "ipdb> b\n",
      "ipdb> b\n",
      "ipdb> b\n",
      "ipdb> \n",
      "ipdb> a\n",
      "a = 2\n",
      "b = 3\n",
      "ipdb> c\n",
      "5\n"
     ]
    }
   ],
   "source": [
    "\n",
    "\n",
    "import pdb\n",
    "\n",
    "def calcular_suma(a,b):\n",
    "    pdb.set_trace() # Pausa la ejecución aquí\n",
    "    suma = a + b\n",
    "    return suma\n",
    "\n",
    "resultado = calcular_suma(2,3)\n",
    "print(resultado)"
   ]
  },
  {
   "cell_type": "code",
   "execution_count": 1,
   "id": "2ffd6ab4-a43b-4b84-9dab-9dc0f949da59",
   "metadata": {},
   "outputs": [
    {
     "name": "stdout",
     "output_type": "stream",
     "text": [
      "hi - world"
     ]
    }
   ],
   "source": [
    "print(\"hi\",\"world\", sep=\" - \", end=\"\") \n"
   ]
  },
  {
   "cell_type": "code",
   "execution_count": 67,
   "id": "13885b69",
   "metadata": {},
   "outputs": [
    {
     "name": "stdout",
     "output_type": "stream",
     "text": [
      "Prueba\n",
      "multi\n",
      "linea\n"
     ]
    }
   ],
   "source": [
    "print(\"Prueba\\n\"\n",
    "         \"multi\\n\"\n",
    "         \"linea\")"
   ]
  },
  {
   "cell_type": "code",
   "execution_count": 68,
   "id": "98c00079",
   "metadata": {},
   "outputs": [
    {
     "name": "stdout",
     "output_type": "stream",
     "text": [
      "El ganador es el nº 10 y tendrá la oportunidad de hacer hola mundo\n"
     ]
    }
   ],
   "source": [
    "#uso de \"f\" para formatear la salida\n",
    "var1 = 10\n",
    "var2 = \"hola mundo\"\n",
    "print(f\"El ganador es el nº {var1} y tendrá la oportunidad de hacer {var2}\")"
   ]
  },
  {
   "cell_type": "markdown",
   "id": "efc14d92",
   "metadata": {},
   "source": [
    "# Entrada de datos\n"
   ]
  },
  {
   "cell_type": "code",
   "execution_count": 3,
   "id": "8764cd1a",
   "metadata": {},
   "outputs": [
    {
     "name": "stdout",
     "output_type": "stream",
     "text": [
      "Introduce tu nombre Ender\n",
      "Hola Ender\n"
     ]
    }
   ],
   "source": [
    "variable_entrada = input(\"Introduce tu nombre \")\n",
    "print(\"Hola\", variable_entrada)"
   ]
  },
  {
   "cell_type": "markdown",
   "id": "52fc131b",
   "metadata": {},
   "source": [
    "# Tipos de datos\n",
    "\n",
    "Es importante conocer los tipos de datos con los que trabajamos y en python podemos conocer el tipo mediante la función que tiene interna type()"
   ]
  },
  {
   "cell_type": "code",
   "execution_count": 4,
   "id": "1f139f52",
   "metadata": {},
   "outputs": [
    {
     "name": "stdout",
     "output_type": "stream",
     "text": [
      "<class 'int'>\n",
      "<class 'float'>\n",
      "<class 'str'>\n"
     ]
    }
   ],
   "source": [
    "print(type(10)) \n",
    "print(type(10.0))\n",
    "print(type(\"10\")) #-> Strings -> conjunto de caracteres"
   ]
  },
  {
   "cell_type": "markdown",
   "id": "0278608a",
   "metadata": {},
   "source": [
    "# Comentarios\n",
    "\n",
    "Buena práctica que debemos seguir siempre\n",
    "\n"
   ]
  },
  {
   "cell_type": "code",
   "execution_count": 5,
   "id": "a037649f",
   "metadata": {},
   "outputs": [],
   "source": [
    "# Comentario en python -> se interpreta como texto\n",
    "\n"
   ]
  },
  {
   "cell_type": "markdown",
   "id": "451430d3",
   "metadata": {},
   "source": [
    "# Listas, tuplas y Diccionarios\n",
    "\n",
    "Las listas son un tipo de datos complejos en python y corresponde con un conjunto arbitrario de valores, donde puede tener:\n",
    "\n",
    "* Collección de strings\n",
    "* Collección de números\n",
    "* Tener otras listas \n",
    "\n",
    "Respecta el orden\n",
    "\n",
    "Las tuplas son muy parecidas a las listas, con la particularidad de que son inmutables. Se utilizar en:\n",
    "\n",
    "* Al ser inmutable los datos se ejecutan más rapido\n",
    "* Si los valores van a permanecer constantes en la ejecución del un programa\n",
    "* Combinación con diccionarios\n",
    "\n",
    "Los diccinarios son unos de los datos complejos más utilizado y se caracterizan por \"clave-valor\", donde la clave es un valor inmutables y los strings son un tipo que es inmutable.\n",
    "\n",
    "* La clave es inmutable\n",
    "* El valor puede modificarse\n",
    "\n",
    "\n",
    "Además aplicaremos de forma específica estas propiedas a cada unos de conjuntos que vamos a ver:\n",
    "\n",
    "* Indexing -> acceder a un único elemento de una secuencia, usando su posición\n",
    "    * lista[0] -> accedemos a la posición\n",
    "* Slicing -> Obtener una subsecuencia (una porción) usando el formato\n",
    "* Stride -> Es el paso que avanza al slicing -> secuencia[inicio:fin:paso]"
   ]
  },
  {
   "cell_type": "code",
   "execution_count": 6,
   "id": "7b2fd92a",
   "metadata": {},
   "outputs": [
    {
     "name": "stdout",
     "output_type": "stream",
     "text": [
      "['tarea1', 'tarea2', 'tarea3', 'tarea4'] <class 'list'>\n",
      "[1, 2, 3, 4, 5] <class 'list'>\n",
      "['tarea1', 3, 'otra cosa', 5] <class 'list'>\n",
      "[1, 2, 3, ['tarea2', 3, 'hola']] <class 'list'>\n",
      "tarea2\n",
      "t\n",
      "tarea4\n",
      "['tarea2', 'tarea3', 'tarea4']\n",
      "['tarea1', 'tarea3']\n",
      "['tarea_terminada', 'tarea2', 'tarea3', 'tarea4']\n"
     ]
    }
   ],
   "source": [
    "# Listas\n",
    "lista = [\"tarea1\",\"tarea2\", \"tarea3\", \"tarea4\"]\n",
    "print(lista, type(lista))\n",
    "\n",
    "lista_numero = [1,2,3,4,5]\n",
    "print(lista_numero, type(lista_numero))\n",
    "\n",
    "lista_combinada = [\"tarea1\", 3, \"otra cosa\", 5]\n",
    "print(lista_combinada, type(lista_combinada))\n",
    "\n",
    "lista_combinada2 = [1,2,3,[\"tarea2\", 3, \"hola\"]]\n",
    "print(lista_combinada2, type(lista_combinada2))\n",
    "\n",
    "\n",
    "# Indexing\n",
    "\n",
    "print(lista[1]) # Accedemos a la segunda posición \n",
    "print(lista[1][0]) # Accedemos a la segunda posición y a la primera posición del string\n",
    "\n",
    "print(lista[-1]) # Accedemos a la última posición de la lista\n",
    "\n",
    "\n",
    "# Slicing\n",
    "\n",
    "print(lista[1:4]) # Se incluye el primer elemento pero no se incluye el último\n",
    "\n",
    "# Stride\n",
    "\n",
    "print(lista[0::2]) # Empieza desde cero y va dando salto de dos\n",
    "\n",
    "\n",
    "# asignación de valores\n",
    "\n",
    "lista[0] = \"tarea_terminada\"\n",
    "\n",
    "print(lista)\n"
   ]
  },
  {
   "cell_type": "code",
   "execution_count": 7,
   "id": "fd265ab7",
   "metadata": {},
   "outputs": [
    {
     "name": "stdout",
     "output_type": "stream",
     "text": [
      "('tarea1', 'tarea2', 'tarea3') <class 'tuple'>\n",
      "a\n",
      "('tarea1', 'tarea2', 'tarea3')\n",
      "('tarea1', 'tarea3')\n"
     ]
    },
    {
     "ename": "TypeError",
     "evalue": "'tuple' object does not support item assignment",
     "output_type": "error",
     "traceback": [
      "\u001b[0;31m---------------------------------------------------------------------------\u001b[0m",
      "\u001b[0;31mTypeError\u001b[0m                                 Traceback (most recent call last)",
      "Cell \u001b[0;32mIn[7], line 21\u001b[0m\n\u001b[1;32m     15\u001b[0m \u001b[38;5;28mprint\u001b[39m(tupla[\u001b[38;5;241m0\u001b[39m::\u001b[38;5;241m2\u001b[39m]) \u001b[38;5;66;03m# damos salto de dos\u001b[39;00m\n\u001b[1;32m     18\u001b[0m \u001b[38;5;66;03m# Asignación de valores\u001b[39;00m\n\u001b[0;32m---> 21\u001b[0m \u001b[43mtupla\u001b[49m\u001b[43m[\u001b[49m\u001b[38;5;241;43m0\u001b[39;49m\u001b[43m]\u001b[49m \u001b[38;5;241m=\u001b[39m \u001b[38;5;124m\"\u001b[39m\u001b[38;5;124mtarea_terminada\u001b[39m\u001b[38;5;124m\"\u001b[39m \u001b[38;5;66;03m# es un objeto inmutable\u001b[39;00m\n",
      "\u001b[0;31mTypeError\u001b[0m: 'tuple' object does not support item assignment"
     ]
    }
   ],
   "source": [
    "# Tupla\n",
    "tupla = (\"tarea1\", \"tarea2\", \"tarea3\")\n",
    "print(tupla, type(tupla))\n",
    "\n",
    "# Indexing\n",
    "\n",
    "print(tupla[1][1]) # Accedemos ala posición 2 de la tupla y a la segunda posición de ese elemento\n",
    "\n",
    "# Slicing\n",
    "\n",
    "print(tupla[0:3]) # mostramos toda la lista\n",
    "\n",
    "# Stride\n",
    "\n",
    "print(tupla[0::2]) # damos salto de dos\n",
    "\n",
    "\n",
    "# Asignación de valores\n",
    "\n",
    "\n",
    "tupla[0] = \"tarea_terminada\" # es un objeto inmutable"
   ]
  },
  {
   "cell_type": "code",
   "execution_count": 8,
   "id": "2626ecf1",
   "metadata": {
    "scrolled": true
   },
   "outputs": [
    {
     "name": "stdout",
     "output_type": "stream",
     "text": [
      "{'tarea1': [1, 2, 3, 4], 'tarea2': 'en proceso', 'tarea3': 0} <class 'dict'>\n",
      "2\n",
      "['tarea1', 'tarea2', 'tarea3']\n"
     ]
    },
    {
     "data": {
      "text/plain": [
       "['tarea1', 'tarea3']"
      ]
     },
     "execution_count": 8,
     "metadata": {},
     "output_type": "execute_result"
    }
   ],
   "source": [
    "# Diccionario\n",
    "diccionario = {\n",
    "    \"tarea1\": [1,2,3,4],\n",
    "    \"tarea2\": \"en proceso\",\n",
    "    \"tarea3\": 0\n",
    "}\n",
    "print(diccionario, type(diccionario))\n",
    "\n",
    "# Indexing\n",
    "\n",
    "print(diccionario[\"tarea1\"][1]) # Importante que debemos accede por clave\n",
    "\n",
    "# Slicing -> No soportado\n",
    "\n",
    "keys = list(diccionario.keys()) # Podemos crear una lista de las claves para poder usar Slicing\n",
    "print(keys[0:])\n",
    "\n",
    "# Stride -> No soportado\n",
    "\n",
    "keys[0::2]\n"
   ]
  },
  {
   "cell_type": "markdown",
   "id": "10c50cf9",
   "metadata": {},
   "source": [
    "# Operadores Aritméticos, Comparaciones y Asignación"
   ]
  },
  {
   "cell_type": "code",
   "execution_count": 9,
   "id": "37e630c5",
   "metadata": {},
   "outputs": [
    {
     "ename": "SyntaxError",
     "evalue": "invalid syntax (2615802113.py, line 3)",
     "output_type": "error",
     "traceback": [
      "\u001b[0;36m  Cell \u001b[0;32mIn[9], line 3\u001b[0;36m\u001b[0m\n\u001b[0;31m    +  # POdemos usarlo para número, string(concatenación), listas(concatenación)\u001b[0m\n\u001b[0m       ^\u001b[0m\n\u001b[0;31mSyntaxError\u001b[0m\u001b[0;31m:\u001b[0m invalid syntax\n"
     ]
    }
   ],
   "source": [
    "# Operadores aritméticos\n",
    "\n",
    "+  # POdemos usarlo para número, string(concatenación), listas(concatenación)\n",
    "<,<=, >, >=, == # Desbloquea los booleanos, usarlos con número, string\n",
    "+=, -=, etc "
   ]
  },
  {
   "cell_type": "code",
   "execution_count": 10,
   "id": "24079b40",
   "metadata": {},
   "outputs": [
    {
     "name": "stdout",
     "output_type": "stream",
     "text": [
      "True\n",
      "False\n",
      "True\n",
      "True\n"
     ]
    }
   ],
   "source": [
    "# Operadores de pertenencia\n",
    "\n",
    "string_1 = \"Texto1\"\n",
    "string_2 = \"Texto2\"\n",
    "\n",
    "print(\"T\" in string_1)\n",
    "print(\"H\" in string_2)\n",
    "\n",
    "print(\"u\" not in string_1)\n",
    "\n",
    "\n",
    "dic_1 = {\"clave1\": \"valor1\", \"clave2\": \"valor2\"} # Solo mira en las claves\n",
    "\n",
    "print(\"clave2\" in dic_1)\n",
    "\n"
   ]
  },
  {
   "cell_type": "code",
   "execution_count": 11,
   "id": "26ef5826",
   "metadata": {},
   "outputs": [
    {
     "name": "stdout",
     "output_type": "stream",
     "text": [
      "True\n",
      "False\n",
      "False\n"
     ]
    }
   ],
   "source": [
    "# Operadores lógicos\n",
    "\n",
    "print(string_1 < string_2 or \"T\" in string_1)\n",
    "print(string_2 < string_1 and \"T\" in string_1)\n",
    "\n",
    "print(not (string_1 < string_2)) # negamos lo que nos de"
   ]
  },
  {
   "cell_type": "code",
   "execution_count": 12,
   "id": "a80c1c54",
   "metadata": {},
   "outputs": [
    {
     "name": "stdout",
     "output_type": "stream",
     "text": [
      "True\n"
     ]
    }
   ],
   "source": [
    "# Operadores de identidad -> comparar objetos, si son la misma variable\n",
    "\n",
    "print(type(string_1) is str)"
   ]
  },
  {
   "cell_type": "markdown",
   "id": "c3d34cf6",
   "metadata": {},
   "source": [
    "# Control de Flujo "
   ]
  },
  {
   "cell_type": "markdown",
   "id": "a85e02fb",
   "metadata": {},
   "source": [
    "## If-elif-else"
   ]
  },
  {
   "cell_type": "code",
   "execution_count": 14,
   "id": "c0af2db2",
   "metadata": {},
   "outputs": [
    {
     "name": "stdout",
     "output_type": "stream",
     "text": [
      "Tienes 30\n"
     ]
    }
   ],
   "source": [
    "\n",
    "edad = 30\n",
    "\n",
    "if edad > 30:\n",
    "    print(\"Es mayor de 30\")\n",
    "elif edad < 30:\n",
    "    print(\"Es mayor de 30\")\n",
    "else:\n",
    "    print(\"Tienes 30\")\n",
    "    \n"
   ]
  },
  {
   "cell_type": "code",
   "execution_count": 15,
   "id": "5e44ec9f",
   "metadata": {},
   "outputs": [],
   "source": [
    "## Bucles For, while, break, Continue, Range"
   ]
  },
  {
   "cell_type": "code",
   "execution_count": 16,
   "id": "2a90b54e",
   "metadata": {},
   "outputs": [
    {
     "name": "stdout",
     "output_type": "stream",
     "text": [
      "tarea1\n",
      "tarea2\n",
      "tarea3\n",
      "tarea4\n",
      "clave1\n",
      "clave2\n",
      "<class 'list_iterator'>\n",
      "tarea1\n",
      "tarea2\n",
      "tarea3\n",
      "tarea4\n",
      "9\n",
      "8\n",
      "7\n",
      "6\n",
      "5\n",
      "4\n",
      "3\n",
      "2\n",
      "1\n",
      "0\n"
     ]
    }
   ],
   "source": [
    "lista = [\"tarea1\", \"tarea2\", \"tarea3\", \"tarea4\"]\n",
    "dic_1 = {\"clave1\": \"valor1\", \"clave2\": \"valor2\"}\n",
    "\n",
    "# For\n",
    "\n",
    "#for [varible] in  [objeto_iterable]:\n",
    "#    [secuencia]\n",
    "\n",
    "for tarea in lista:\n",
    "    print(tarea)\n",
    "    \n",
    "for tarea in dic_1:\n",
    "    print(tarea)\n",
    "    \n",
    "lista_tarea_iterator = iter(lista)\n",
    "print(type(lista_tarea_iterator))\n",
    "\n",
    "for num in range(0, len(lista)):\n",
    "    print(next(lista_tarea_iterator))\n",
    "\n",
    "\n",
    "# While\n",
    "\n",
    "num = 10\n",
    "while num > 0:\n",
    "    num -= 1\n",
    "    print(num)"
   ]
  },
  {
   "cell_type": "markdown",
   "id": "21cdf58f",
   "metadata": {},
   "source": [
    "# Funciones: Parámetros, Argumentos, Return, Docstrings\n",
    "\n",
    "* Palabra clave \"def\"\n",
    "* Los argumentos pueden venir con un valor por defecto arg1=\"valor por defecto\" y por tanto opcional\n",
    "* docstring -> describe que hace la función\n",
    "* return -> devuelve un valor (puede ser opcional)\n"
   ]
  },
  {
   "cell_type": "code",
   "execution_count": 4,
   "id": "854904d7",
   "metadata": {},
   "outputs": [
    {
     "name": "stdout",
     "output_type": "stream",
     "text": [
      "10\n",
      "3\n",
      "10\n",
      "6\n",
      "10\n",
      "La función devuelve un valor\n",
      "3 5\n"
     ]
    }
   ],
   "source": [
    "# Definición de una función\n",
    "\n",
    "def mi_funcion(argumento1, argumento2, argumento3=10):\n",
    "    \n",
    "    \"\"\"\n",
    "    Docstring -> Guia de estilo P257\n",
    "    \n",
    "    \n",
    "    \n",
    "    \"\"\"\n",
    "    \n",
    "    print(argumento3)\n",
    "    \n",
    "    # Return -> Si no ponemos nada devuelve el valor None\n",
    "    return argumento1 + argumento2\n",
    "\n",
    "print(mi_funcion(1,2))\n",
    "\n",
    "# Podemos poner el nombre de los argumentos\n",
    "print(mi_funcion(argumento1=2, argumento2=4)) \n",
    "\n",
    "\n",
    "if(mi_funcion(1,2) is not None):\n",
    "    print(\"La función devuelve un valor\")\n",
    "    \n",
    "\n",
    "# Otro caso de uso\n",
    "\n",
    "def mi_funcion(arg1, arg2):\n",
    "    return arg1+1, arg2+2\n",
    "\n",
    "\n",
    "# Recoger varios valores devueltos por el return\n",
    "\n",
    "var1, var2 = mi_funcion(2,3)\n",
    "print(var1, var2)"
   ]
  },
  {
   "cell_type": "markdown",
   "id": "ff60689b",
   "metadata": {},
   "source": [
    "## Scope \n",
    "\n",
    "Región se corresponde con la región de un programa en python, donde un espacio de nombre es directamente accesible.\n",
    "\n",
    "Con espacio de nombre nos referimos como a la declaración de variables o las palabras clave que tiene python."
   ]
  },
  {
   "cell_type": "markdown",
   "id": "2d424d8a",
   "metadata": {},
   "source": [
    "### Scope Local\n",
    "\n"
   ]
  },
  {
   "cell_type": "code",
   "execution_count": 13,
   "id": "6cbec425",
   "metadata": {},
   "outputs": [
    {
     "name": "stdout",
     "output_type": "stream",
     "text": [
      "0\n",
      "1\n",
      "2\n",
      "{'var1': 10}\n"
     ]
    }
   ],
   "source": [
    "def func():\n",
    "    var1 = 10 # solo visible en el cuerpo de la función (y se crea cuando se llama a la función\n",
    "    print(locals()) # Imprime todos los nombres que están definidos en el scope local\n",
    "    \n",
    "for i in range(3):\n",
    "    print(i) ## solo es visible en el cuerpo del bucle\n",
    "    \n",
    "func()"
   ]
  },
  {
   "cell_type": "markdown",
   "id": "42949c0a",
   "metadata": {},
   "source": [
    "\n",
    "### Scope No local\n",
    "\n",
    "Existe en funciones anidadas\n"
   ]
  },
  {
   "cell_type": "code",
   "execution_count": null,
   "id": "70b05e1d",
   "metadata": {},
   "outputs": [],
   "source": [
    "\n",
    "\n",
    "def func():\n",
    "    num = 10\n",
    "    def func2():\n",
    "        num2 = 20\n",
    "        print(num) -> Accesible desde func2\n",
    "        print(num2)  \n",
    "    func2()\n",
    "    \n",
    "func()\n",
    "\n",
    "\n"
   ]
  },
  {
   "cell_type": "markdown",
   "id": "f5e68e3e",
   "metadata": {},
   "source": [
    "### Scope Global\n",
    "\n",
    "Todos los nombre que definamos fuera de cualquier estructura, este nombre va poder ser accedido desde cualquier parte.\n"
   ]
  },
  {
   "cell_type": "code",
   "execution_count": 15,
   "id": "a2100abf",
   "metadata": {},
   "outputs": [
    {
     "name": "stdout",
     "output_type": "stream",
     "text": [
      "global\n",
      "global\n",
      "{'__name__': '__main__', '__doc__': 'Automatically created module for IPython interactive environment', '__package__': None, '__loader__': None, '__spec__': None, '__builtin__': <module 'builtins' (built-in)>, '__builtins__': <module 'builtins' (built-in)>, '_ih': ['', '# Definición de una función\\n\\ndef mi_funcion(argumento1, argumento2, argumento3=10):\\n    \\n    print(argumento3)\\n    return argumento1 + argumento2 \\n\\nprint(mi_funcion(1,2))\\n\\nprint(mi_funcion(arg1=2, arg2=4))', '# Definición de una función\\n\\ndef mi_funcion(argumento1, argumento2, argumento3=10):\\n    \\n    print(argumento3)\\n    return argumento1 + argumento2 \\n\\nprint(mi_funcion(1,2))\\n\\nprint(mi_funcion(argumento1=2, argumento2=4))', '# Definición de una función\\n\\ndef mi_funcion(argumento1, argumento2, argumento3=10):\\n    \\n    print(argumento3)\\n    \\n    # Return -> Si no ponemos nada devuelve el valor None\\n    return argumento1 + argumento2\\n\\nprint(mi_funcion(1,2))\\n\\n# Podemos poner el nombre de los argumentos\\nprint(mi_funcion(argumento1=2, argumento2=4)) \\n\\n\\nif(mi_funcion(1,2) is not None):\\n    print(\"La función devuelve un valor\")', '# Definición de una función\\n\\ndef mi_funcion(argumento1, argumento2, argumento3=10):\\n    \\n    print(argumento3)\\n    \\n    # Return -> Si no ponemos nada devuelve el valor None\\n    return argumento1 + argumento2\\n\\nprint(mi_funcion(1,2))\\n\\n# Podemos poner el nombre de los argumentos\\nprint(mi_funcion(argumento1=2, argumento2=4)) \\n\\n\\nif(mi_funcion(1,2) is not None):\\n    print(\"La función devuelve un valor\")\\n    \\n    \\n    \\ndef mi_funcion(arg1, arg2):\\n    return arg1+1, arg2+2\\n\\n\\n# Recoger varios valores devueltos por el return\\n\\nvar1, var2 = mi_funcion(2,3)\\nprint(var1, var2)', 'def func():\\n    var1 = 10 # solo visible en el cuerpo de la función (y se crea cuando se llama a la función\\n    \\nfor i in range(1,10):\\n    i ## solo es visible en el cuerpo del bucle', 'def func():\\n    var1 = 10 # solo visible en el cuerpo de la función (y se crea cuando se llama a la función\\n    print(locals()) # Imprime todos los nombres que están definidos en el scope local\\n    \\nfor i in range(1,10):\\n    i ## solo es visible en el cuerpo del bucle', 'def func():\\n    var1 = 10 # solo visible en el cuerpo de la función (y se crea cuando se llama a la función\\n    print(locals()) # Imprime todos los nombres que están definidos en el scope local\\n    \\nfor i in range(1,10):\\n    i ## solo es visible en el cuerpo del bucle', 'def func():\\n    var1 = 10 # solo visible en el cuerpo de la función (y se crea cuando se llama a la función\\n    print(locals()) # Imprime todos los nombres que están definidos en el scope local\\n    \\nfor i in range(1,10):\\n    i ## solo es visible en el cuerpo del bucle', 'def func():\\n    var1 = 10 # solo visible en el cuerpo de la función (y se crea cuando se llama a la función\\n    print(locals()) # Imprime todos los nombres que están definidos en el scope local\\n    \\nfor i in range(1,10):\\n    i ## solo es visible en el cuerpo del bucle', 'def func():\\n    var1 = 10 # solo visible en el cuerpo de la función (y se crea cuando se llama a la función\\n    print(locals()) # Imprime todos los nombres que están definidos en el scope local\\n    \\nfor i in range(1,10):\\n    i ## solo es visible en el cuerpo del bucle', 'def func():\\n    var1 = 10 # solo visible en el cuerpo de la función (y se crea cuando se llama a la función\\n    print(locals()) # Imprime todos los nombres que están definidos en el scope local\\n    \\nfor i in range(1,10):\\n    print(i) ## solo es visible en el cuerpo del bucle', 'def func():\\n    var1 = 10 # solo visible en el cuerpo de la función (y se crea cuando se llama a la función\\n    print(locals()) # Imprime todos los nombres que están definidos en el scope local\\n    \\nfor i in range(3):\\n    print(i) ## solo es visible en el cuerpo del bucle', 'def func():\\n    var1 = 10 # solo visible en el cuerpo de la función (y se crea cuando se llama a la función\\n    print(locals()) # Imprime todos los nombres que están definidos en el scope local\\n    \\nfor i in range(3):\\n    print(i) ## solo es visible en el cuerpo del bucle\\n    \\nfunc()', 'variable = \"global\"\\n\\nfor i in range(2)\\n    print(variable)\\n\\nprint(globals())', 'variable = \"global\"\\n\\nfor i in range(2):\\n    print(variable)\\n\\nprint(globals())'], '_oh': {}, '_dh': [PosixPath('/home/ssqnsn/Documents/GIT/Python_Data_Science_ML_DL/2-Programacion-python/01-python_core')], 'In': ['', '# Definición de una función\\n\\ndef mi_funcion(argumento1, argumento2, argumento3=10):\\n    \\n    print(argumento3)\\n    return argumento1 + argumento2 \\n\\nprint(mi_funcion(1,2))\\n\\nprint(mi_funcion(arg1=2, arg2=4))', '# Definición de una función\\n\\ndef mi_funcion(argumento1, argumento2, argumento3=10):\\n    \\n    print(argumento3)\\n    return argumento1 + argumento2 \\n\\nprint(mi_funcion(1,2))\\n\\nprint(mi_funcion(argumento1=2, argumento2=4))', '# Definición de una función\\n\\ndef mi_funcion(argumento1, argumento2, argumento3=10):\\n    \\n    print(argumento3)\\n    \\n    # Return -> Si no ponemos nada devuelve el valor None\\n    return argumento1 + argumento2\\n\\nprint(mi_funcion(1,2))\\n\\n# Podemos poner el nombre de los argumentos\\nprint(mi_funcion(argumento1=2, argumento2=4)) \\n\\n\\nif(mi_funcion(1,2) is not None):\\n    print(\"La función devuelve un valor\")', '# Definición de una función\\n\\ndef mi_funcion(argumento1, argumento2, argumento3=10):\\n    \\n    print(argumento3)\\n    \\n    # Return -> Si no ponemos nada devuelve el valor None\\n    return argumento1 + argumento2\\n\\nprint(mi_funcion(1,2))\\n\\n# Podemos poner el nombre de los argumentos\\nprint(mi_funcion(argumento1=2, argumento2=4)) \\n\\n\\nif(mi_funcion(1,2) is not None):\\n    print(\"La función devuelve un valor\")\\n    \\n    \\n    \\ndef mi_funcion(arg1, arg2):\\n    return arg1+1, arg2+2\\n\\n\\n# Recoger varios valores devueltos por el return\\n\\nvar1, var2 = mi_funcion(2,3)\\nprint(var1, var2)', 'def func():\\n    var1 = 10 # solo visible en el cuerpo de la función (y se crea cuando se llama a la función\\n    \\nfor i in range(1,10):\\n    i ## solo es visible en el cuerpo del bucle', 'def func():\\n    var1 = 10 # solo visible en el cuerpo de la función (y se crea cuando se llama a la función\\n    print(locals()) # Imprime todos los nombres que están definidos en el scope local\\n    \\nfor i in range(1,10):\\n    i ## solo es visible en el cuerpo del bucle', 'def func():\\n    var1 = 10 # solo visible en el cuerpo de la función (y se crea cuando se llama a la función\\n    print(locals()) # Imprime todos los nombres que están definidos en el scope local\\n    \\nfor i in range(1,10):\\n    i ## solo es visible en el cuerpo del bucle', 'def func():\\n    var1 = 10 # solo visible en el cuerpo de la función (y se crea cuando se llama a la función\\n    print(locals()) # Imprime todos los nombres que están definidos en el scope local\\n    \\nfor i in range(1,10):\\n    i ## solo es visible en el cuerpo del bucle', 'def func():\\n    var1 = 10 # solo visible en el cuerpo de la función (y se crea cuando se llama a la función\\n    print(locals()) # Imprime todos los nombres que están definidos en el scope local\\n    \\nfor i in range(1,10):\\n    i ## solo es visible en el cuerpo del bucle', 'def func():\\n    var1 = 10 # solo visible en el cuerpo de la función (y se crea cuando se llama a la función\\n    print(locals()) # Imprime todos los nombres que están definidos en el scope local\\n    \\nfor i in range(1,10):\\n    i ## solo es visible en el cuerpo del bucle', 'def func():\\n    var1 = 10 # solo visible en el cuerpo de la función (y se crea cuando se llama a la función\\n    print(locals()) # Imprime todos los nombres que están definidos en el scope local\\n    \\nfor i in range(1,10):\\n    print(i) ## solo es visible en el cuerpo del bucle', 'def func():\\n    var1 = 10 # solo visible en el cuerpo de la función (y se crea cuando se llama a la función\\n    print(locals()) # Imprime todos los nombres que están definidos en el scope local\\n    \\nfor i in range(3):\\n    print(i) ## solo es visible en el cuerpo del bucle', 'def func():\\n    var1 = 10 # solo visible en el cuerpo de la función (y se crea cuando se llama a la función\\n    print(locals()) # Imprime todos los nombres que están definidos en el scope local\\n    \\nfor i in range(3):\\n    print(i) ## solo es visible en el cuerpo del bucle\\n    \\nfunc()', 'variable = \"global\"\\n\\nfor i in range(2)\\n    print(variable)\\n\\nprint(globals())', 'variable = \"global\"\\n\\nfor i in range(2):\\n    print(variable)\\n\\nprint(globals())'], 'Out': {}, 'get_ipython': <bound method InteractiveShell.get_ipython of <ipykernel.zmqshell.ZMQInteractiveShell object at 0x736f593b7140>>, 'exit': <IPython.core.autocall.ZMQExitAutocall object at 0x736f593b6d20>, 'quit': <IPython.core.autocall.ZMQExitAutocall object at 0x736f593b6d20>, 'open': <function open at 0x736f5a5c3380>, '_': '', '__': '', '___': '', '_i': '\\nvariable = \"global\"\\n\\nfor i in range(2)\\n    print(variable)\\n\\nprint(globals())', '_ii': 'def func():\\n    var1 = 10 # solo visible en el cuerpo de la función (y se crea cuando se llama a la función\\n    print(locals()) # Imprime todos los nombres que están definidos en el scope local\\n    \\nfor i in range(3):\\n    print(i) ## solo es visible en el cuerpo del bucle\\n    \\nfunc()', '_iii': 'def func():\\n    var1 = 10 # solo visible en el cuerpo de la función (y se crea cuando se llama a la función\\n    print(locals()) # Imprime todos los nombres que están definidos en el scope local\\n    \\nfor i in range(3):\\n    print(i) ## solo es visible en el cuerpo del bucle', '_i1': '# Definición de una función\\n\\ndef mi_funcion(argumento1, argumento2, argumento3=10):\\n    \\n    print(argumento3)\\n    return argumento1 + argumento2 \\n\\nprint(mi_funcion(1,2))\\n\\nprint(mi_funcion(arg1=2, arg2=4))', 'mi_funcion': <function mi_funcion at 0x736f5611c180>, '_i2': '# Definición de una función\\n\\ndef mi_funcion(argumento1, argumento2, argumento3=10):\\n    \\n    print(argumento3)\\n    return argumento1 + argumento2 \\n\\nprint(mi_funcion(1,2))\\n\\nprint(mi_funcion(argumento1=2, argumento2=4))', '_i3': '# Definición de una función\\n\\ndef mi_funcion(argumento1, argumento2, argumento3=10):\\n    \\n    print(argumento3)\\n    \\n    # Return -> Si no ponemos nada devuelve el valor None\\n    return argumento1 + argumento2\\n\\nprint(mi_funcion(1,2))\\n\\n# Podemos poner el nombre de los argumentos\\nprint(mi_funcion(argumento1=2, argumento2=4)) \\n\\n\\nif(mi_funcion(1,2) is not None):\\n    print(\"La función devuelve un valor\")', '_i4': '# Definición de una función\\n\\ndef mi_funcion(argumento1, argumento2, argumento3=10):\\n    \\n    print(argumento3)\\n    \\n    # Return -> Si no ponemos nada devuelve el valor None\\n    return argumento1 + argumento2\\n\\nprint(mi_funcion(1,2))\\n\\n# Podemos poner el nombre de los argumentos\\nprint(mi_funcion(argumento1=2, argumento2=4)) \\n\\n\\nif(mi_funcion(1,2) is not None):\\n    print(\"La función devuelve un valor\")\\n    \\n    \\n    \\ndef mi_funcion(arg1, arg2):\\n    return arg1+1, arg2+2\\n\\n\\n# Recoger varios valores devueltos por el return\\n\\nvar1, var2 = mi_funcion(2,3)\\nprint(var1, var2)', 'var1': 3, 'var2': 5, '_i5': 'def func():\\n    var1 = 10 # solo visible en el cuerpo de la función (y se crea cuando se llama a la función\\n    \\nfor i in range(1,10):\\n    i ## solo es visible en el cuerpo del bucle', 'func': <function func at 0x736f5611c680>, 'i': 1, '_i6': 'def func():\\n    var1 = 10 # solo visible en el cuerpo de la función (y se crea cuando se llama a la función\\n    print(locals()) # Imprime todos los nombres que están definidos en el scope local\\n    \\nfor i in range(1,10):\\n    i ## solo es visible en el cuerpo del bucle', '_i7': 'def func():\\n    var1 = 10 # solo visible en el cuerpo de la función (y se crea cuando se llama a la función\\n    print(locals()) # Imprime todos los nombres que están definidos en el scope local\\n    \\nfor i in range(1,10):\\n    i ## solo es visible en el cuerpo del bucle', '_i8': 'def func():\\n    var1 = 10 # solo visible en el cuerpo de la función (y se crea cuando se llama a la función\\n    print(locals()) # Imprime todos los nombres que están definidos en el scope local\\n    \\nfor i in range(1,10):\\n    i ## solo es visible en el cuerpo del bucle', '_i9': 'def func():\\n    var1 = 10 # solo visible en el cuerpo de la función (y se crea cuando se llama a la función\\n    print(locals()) # Imprime todos los nombres que están definidos en el scope local\\n    \\nfor i in range(1,10):\\n    i ## solo es visible en el cuerpo del bucle', '_i10': 'def func():\\n    var1 = 10 # solo visible en el cuerpo de la función (y se crea cuando se llama a la función\\n    print(locals()) # Imprime todos los nombres que están definidos en el scope local\\n    \\nfor i in range(1,10):\\n    i ## solo es visible en el cuerpo del bucle', '_i11': 'def func():\\n    var1 = 10 # solo visible en el cuerpo de la función (y se crea cuando se llama a la función\\n    print(locals()) # Imprime todos los nombres que están definidos en el scope local\\n    \\nfor i in range(1,10):\\n    print(i) ## solo es visible en el cuerpo del bucle', '_i12': 'def func():\\n    var1 = 10 # solo visible en el cuerpo de la función (y se crea cuando se llama a la función\\n    print(locals()) # Imprime todos los nombres que están definidos en el scope local\\n    \\nfor i in range(3):\\n    print(i) ## solo es visible en el cuerpo del bucle', '_i13': 'def func():\\n    var1 = 10 # solo visible en el cuerpo de la función (y se crea cuando se llama a la función\\n    print(locals()) # Imprime todos los nombres que están definidos en el scope local\\n    \\nfor i in range(3):\\n    print(i) ## solo es visible en el cuerpo del bucle\\n    \\nfunc()', '_i14': '\\nvariable = \"global\"\\n\\nfor i in range(2)\\n    print(variable)\\n\\nprint(globals())', '_i15': '\\nvariable = \"global\"\\n\\nfor i in range(2):\\n    print(variable)\\n\\nprint(globals())', 'variable': 'global'}\n"
     ]
    }
   ],
   "source": [
    "\n",
    "variable = \"global\"\n",
    "\n",
    "for i in range(2):\n",
    "    print(variable)\n",
    "\n",
    "print(globals()) # Sale más cosas que el scope global"
   ]
  },
  {
   "cell_type": "markdown",
   "id": "ca7ad885",
   "metadata": {},
   "source": [
    "    \n",
    "### Scope por defecto\n",
    "\n",
    "Es un ambito especial de Python que se crea o se carga cuando abrimos un programa o abrimos una sesión iterativa. Contiene todo los nombres, como palabras clave, excepciones, etc.\n",
    "\n",
    "\n"
   ]
  },
  {
   "cell_type": "markdown",
   "id": "25ab3782",
   "metadata": {},
   "source": [
    "# Orientación a objetos:"
   ]
  },
  {
   "cell_type": "markdown",
   "id": "b153be5b",
   "metadata": {},
   "source": [
    "## Clase, Métodos y Atributos\n",
    "\n",
    "Podemos crear nuevos tipo de datos, lo que nos permite con clases crear nuevas instancias apartir de este tipo de datos\n",
    "\n",
    "* La Clase es la plantilla -> Plano donde se define las características y comportamiento que tendrán los objetos.\n",
    "* Los objetos es la cosa real -> que se crea utilizando el plano o plantilla.\n",
    "* La instancia se refiere a un objeto específico creado a partir de una clase(plantilla)\n",
    "\n",
    "Clase = Plantilla o plano (definición).\n",
    "\n",
    "Objeto = Instancia concreta creada a partir de la clase.\n",
    "\n",
    "Instancia = El objeto específico, un caso real creado usando la plantilla."
   ]
  },
  {
   "cell_type": "code",
   "execution_count": 24,
   "id": "e2c928c6",
   "metadata": {},
   "outputs": [
    {
     "name": "stdout",
     "output_type": "stream",
     "text": [
      "<class '__main__.Coche'>\n"
     ]
    }
   ],
   "source": [
    "class Coche:\n",
    "    pass # para que no de error\n",
    "\n",
    "coche1 = Coche()\n",
    "\n",
    "print(type(coche1))\n",
    "\n"
   ]
  },
  {
   "cell_type": "code",
   "execution_count": 38,
   "id": "acaa3b21",
   "metadata": {},
   "outputs": [
    {
     "name": "stdout",
     "output_type": "stream",
     "text": [
      "<class '__main__.Moto'>\n",
      "20\n",
      "velocidad máxima:  50\n",
      "velocidad máxima:  200\n"
     ]
    }
   ],
   "source": [
    "class Moto:\n",
    "    \n",
    "    #atributo de clase\n",
    "    atributo_1 = 20\n",
    "    \n",
    "    def __init__(self, vel_max=50): # Constructor\n",
    "        self.max_vel = vel_max\n",
    "    \n",
    "    \n",
    "    #Método de la clase\n",
    "    def velocidad_defecto(self):\n",
    "        print(\"velocidad por defecto: \", self.atributo_1)\n",
    "        \n",
    "    def velocidad_maxima(self):\n",
    "        print(\"velocidad máxima: \", self.max_vel)\n",
    "  \n",
    "moto1 = Moto()\n",
    "moto2 = Moto(200)\n",
    "\n",
    "print(type(moto1))\n",
    "\n",
    "\n",
    "print(moto1.atributo_1) #Mostrar atributo de la clase\n",
    "\n",
    "moto1.velocidad_maxima()\n",
    "\n",
    "moto2.velocidad_maxima()\n"
   ]
  },
  {
   "cell_type": "markdown",
   "id": "89789089",
   "metadata": {},
   "source": [
    "## Herencia y manejo de objeto "
   ]
  },
  {
   "cell_type": "code",
   "execution_count": 3,
   "id": "2390ee80",
   "metadata": {},
   "outputs": [
    {
     "name": "stdout",
     "output_type": "stream",
     "text": [
      "<class '__main__.Coche'>\n",
      "Modelo Mercedes \n",
      "Potencia: 400 cv \n",
      "Consumo: 6 l/100km \n",
      "Kilometros: 0\n",
      "actualización de kilómetros  201\n",
      "\n",
      "...str...\n",
      " Esto es un coche\n",
      "Help on class Coche in module __main__:\n",
      "\n",
      "class Coche(builtins.object)\n",
      " |  Coche(modelo, potencia, consumo)\n",
      " |\n",
      " |  Esta clase representa un coche\n",
      " |\n",
      " |  Methods defined here:\n",
      " |\n",
      " |  __init__(self, modelo, potencia, consumo)\n",
      " |      Argumentos posicionales:\n",
      " |      Modelo -- string que representa el modelo del coche\n",
      " |      Potencia -- int que representa la potencia en cv\n",
      " |      Consumo -- int que representa el consumo en litros/100km\n",
      " |\n",
      " |  __str__(self)\n",
      " |      Return str(self).\n",
      " |\n",
      " |  get_especificaciones(self)\n",
      " |      Muestra las especificacione del coche.\n",
      " |\n",
      " |  set_update(self, kilometros)\n",
      " |      Modificamos los kilometros del coche.\n",
      " |\n",
      " |  ----------------------------------------------------------------------\n",
      " |  Data descriptors defined here:\n",
      " |\n",
      " |  __dict__\n",
      " |      dictionary for instance variables\n",
      " |\n",
      " |  __weakref__\n",
      " |      list of weak references to the object\n",
      "\n",
      "None\n",
      "['__class__', '__delattr__', '__dict__', '__dir__', '__doc__', '__eq__', '__format__', '__ge__', '__getattribute__', '__getstate__', '__gt__', '__hash__', '__init__', '__init_subclass__', '__le__', '__lt__', '__module__', '__ne__', '__new__', '__reduce__', '__reduce_ex__', '__repr__', '__setattr__', '__sizeof__', '__str__', '__subclasshook__', '__weakref__', 'get_especificaciones', 'set_update']\n"
     ]
    }
   ],
   "source": [
    "#Clase más completa\n",
    "\n",
    "class Coche:\n",
    "    \"\"\"Esta clase representa un coche\"\"\"\n",
    "    def __init__(self, modelo, potencia, consumo):\n",
    "        \"\"\"\n",
    "        Argumentos posicionales:\n",
    "        Modelo -- string que representa el modelo del coche\n",
    "        Potencia -- int que representa la potencia en cv\n",
    "        Consumo -- int que representa el consumo en litros/100km\n",
    "\n",
    "        \"\"\"\n",
    "        self.modelo = modelo\n",
    "        self.potencia = potencia\n",
    "        self.consumo = consumo\n",
    "        self.km_actuales = 0\n",
    "    \n",
    "    def get_especificaciones(self):\n",
    "        \"\"\"Muestra las especificacione del coche.\"\"\"\n",
    "        print(\"Modelo\", self.modelo,\n",
    "            f\"\\nPotencia: {self.potencia} cv\",\n",
    "            f\"\\nConsumo: {self.consumo} l/100km\",\n",
    "            f\"\\nKilometros: {self.km_actuales}\")\n",
    "\n",
    "    def set_update(self, kilometros):\n",
    "        \"\"\"Modificamos los kilometros del coche.\"\"\"\n",
    "        if kilometros > self.km_actuales:\n",
    "            self.km_actuales = kilometros\n",
    "            print(\"actualización de kilómetros \", self.km_actuales)\n",
    "        else:\n",
    "            print(\"ERROR: No se puede establecer un número de km inferior al actual\")\n",
    "            \n",
    "    #Función especial que define como se debe representar un objeto como una cadena de texto (string)\n",
    "    def __str__(self):\n",
    "        return \"Esto es un coche\"\n",
    "            \n",
    "#Instanciamos una clase\n",
    "coche1 = Coche(\"Mercedes\", 400, 6)\n",
    "\n",
    "print(type(coche1))\n",
    "          \n",
    "coche1.get_especificaciones()\n",
    "coche1.set_update(201)\n",
    "print(\"\\n...str...\\n\",str(coche1))\n",
    "\n",
    "print(help(Coche))\n",
    "print(dir(Coche))\n",
    "        "
   ]
  },
  {
   "cell_type": "code",
   "execution_count": 8,
   "id": "133dafc3",
   "metadata": {},
   "outputs": [
    {
     "name": "stdout",
     "output_type": "stream",
     "text": [
      "<class '__main__.CocheElectrico'>\n"
     ]
    }
   ],
   "source": [
    "# hererencia\n",
    "# Partiendo de la clase coche, pensemos que tenemos un coche electrico.\n",
    "\n",
    "\n",
    "# Crear un coche normalmente\n",
    "coche_mercedes = Coche(\"Mercedes\", 150,10)\n",
    "\n",
    "\n",
    "class CocheElectrico(Coche):\n",
    "    \"\"\"Esta Clase representa una coche eléctrico\n",
    "    \n",
    "    \n",
    "    \"\"\"\n",
    "    \n",
    "    def __init__(self, modelo, potencia, consumo):\n",
    "        \n",
    "        super().__init__(modelo,potencia, consumo)\n",
    "    \n",
    "        \n",
    "    #Sobre escritura de la clase padre\n",
    "    def get_especificaciones(self):\n",
    "        \"\"\"Muestra las especificacione del coche.\"\"\"\n",
    "        print(\"Modelo\", self.modelo,\n",
    "            f\"\\nPotencia: {self.potencia} cv\",\n",
    "            f\"\\nConsumo: {self.consumo} KWh/100km\",\n",
    "            f\"\\nKilometros: {self.km_actuales}\")\n",
    "        \n",
    "        \n",
    "coche_electrico = CocheElectrico(\"Telsa\", 100, 10)\n",
    "        \n",
    "print(type(coche_electrico))\n"
   ]
  },
  {
   "cell_type": "markdown",
   "id": "fae658e7",
   "metadata": {},
   "source": [
    "# Módulos y Paquetes  (Programación modular)\n",
    "\n",
    "## Modulos\n",
    "\n",
    "Es un archivo con extensión .py que contiene definiciones y declaraciones de Python.\n",
    "\n",
    "* Ayuda a organizar el código\n",
    "* Definir funciones\n",
    "* Clases\n",
    "* Variables\n",
    "\n",
    "Las ventajas más evidentes son la reutilización de código y espacio de nombres. Para crear el módulo debemos de crear el fichero y escribir en él.\n",
    "\n",
    "* ls\n",
    "* touch modulo1.py\n",
    "\n",
    "Paso previo, se copia el siguiente código en el fichero `modulo1.py`\n",
    "\n",
    "'''python\n",
    "\n",
    "def test_func():\n",
    "    print(\"Prueba\")\n",
    "\n",
    "Class Test:\n",
    "    variable = \"hola\"\n",
    "    \n",
    " \n",
    "'''\n",
    "\n",
    "\n",
    "## Paquetes\n",
    "\n",
    "\n",
    "Un paquete es una"
   ]
  },
  {
   "cell_type": "code",
   "execution_count": 16,
   "id": "977fa7b4",
   "metadata": {},
   "outputs": [
    {
     "name": "stdout",
     "output_type": "stream",
     "text": [
      "def test_func():\r\n",
      "    print(\"Prueba\")\r\n",
      "\r\n",
      "class Test:\r\n",
      "    variable = \"hola\""
     ]
    }
   ],
   "source": [
    "cat modulo1.py"
   ]
  },
  {
   "cell_type": "code",
   "execution_count": 15,
   "id": "6dea979f",
   "metadata": {},
   "outputs": [
    {
     "name": "stdout",
     "output_type": "stream",
     "text": [
      "Prueba\n",
      "hola\n"
     ]
    }
   ],
   "source": [
    "\n",
    "import modulo1\n",
    "\n",
    "modulo1.test_func()\n",
    "\n",
    "objeto = modulo1.Test()\n",
    "\n",
    "print(objeto.variable)"
   ]
  },
  {
   "cell_type": "code",
   "execution_count": 8,
   "id": "6ea8ffb2",
   "metadata": {},
   "outputs": [
    {
     "name": "stdout",
     "output_type": "stream",
     "text": [
      "mkdir: cannot create directory ‘paquete’: File exists\n",
      "__all__ = ['modulo2']\n"
     ]
    }
   ],
   "source": [
    "!mkdir paquete\n",
    "!cd paquete\n",
    "!touch modulo2.py\n",
    "!touch __init__.py\n",
    "!echo \"__all__ = ['modulo2']\"\n",
    "\n"
   ]
  },
  {
   "cell_type": "code",
   "execution_count": 12,
   "id": "44c4227e",
   "metadata": {},
   "outputs": [
    {
     "name": "stdout",
     "output_type": "stream",
     "text": [
      "Help on module paquete.modulo2 in paquete:\n",
      "\n",
      "NAME\n",
      "    paquete.modulo2\n",
      "\n",
      "FUNCTIONS\n",
      "    test_func2()\n",
      "\n",
      "FILE\n",
      "    /home/ssqnsn/Documents/GIT/Python_Data_Science_ML_DL/2-Programacion-python/01-python_core/paquete/modulo2.py\n",
      "\n",
      "\n",
      "None\n",
      "Test funcion 2 del modulo 2\n"
     ]
    }
   ],
   "source": [
    "import paquete.modulo2 as m2\n",
    "print(help(m2))\n",
    "m2.test_func2()"
   ]
  },
  {
   "attachments": {
    "image.png": {
     "image/png": "[encoded data removed]"
    }
   },
   "cell_type": "markdown",
   "id": "1c000a5e",
   "metadata": {},
   "source": [
    "# Librerias externas y pip y requirements.txt\n",
    "\n",
    "\n",
    "\n",
    "## pip (packer installer for Python)\n",
    "\n",
    "\n",
    "Nos permite instalar paquetes externos (creados por otros equipos y personas. Es importante verificar antes que los paquetes existen en Pypi https://pypi.org/ y buscar el paquete correspondiente.\n",
    "\n",
    "![image.png](attachment:image.png)\n",
    "\n",
    "\n",
    "```python\n",
    "\n",
    "#Saber la version\n",
    "\n",
    "!pip --versio\n",
    "\n",
    "#Actualizar pip\n",
    "python -m pip install --upgrade pip\n",
    "\n",
    "#Instalar paquete\n",
    "!pip install pycryptodome\n",
    "\n",
    "\n",
    "\n",
    "```\n",
    "\n",
    "\n",
    "## requirements.txt\n",
    "\n",
    "Instalar dependencias de paquetes. Para realizar la instalación usamos **pip -r riquerements.txt**\n",
    "\n",
    "```python\n",
    "\n",
    "scapy==3.1.0\n",
    "dill\n",
    "numpy\n",
    "etc....\n",
    "\n",
    "```\n",
    "\n",
    "\n",
    "\n",
    "\n",
    "\n"
   ]
  },
  {
   "cell_type": "code",
   "execution_count": 15,
   "id": "cd5cca87",
   "metadata": {},
   "outputs": [
    {
     "name": "stdout",
     "output_type": "stream",
     "text": [
      "Package                     Version\r\n",
      "--------------------------- --------------\r\n",
      "alabaster                   0.7.12\r\n",
      "appdirs                     1.4.4\r\n",
      "argon2-cffi                 21.1.0\r\n",
      "asn1crypto                  1.5.1\r\n",
      "asttokens                   2.4.1\r\n",
      "attrs                       23.2.0\r\n",
      "Babel                       2.10.3\r\n",
      "bcc                         0.29.1\r\n",
      "bcrypt                      3.2.2\r\n",
      "beautifulsoup4              4.12.3\r\n",
      "bleach                      6.1.0\r\n",
      "blinker                     1.7.0\r\n",
      "Bottleneck                  1.3.5\r\n",
      "Brlapi                      0.8.5\r\n",
      "Brotli                      1.1.0\r\n",
      "bytecode                    0.15.1\r\n",
      "certifi                     2023.11.17\r\n",
      "chardet                     5.2.0\r\n",
      "click                       8.1.6\r\n",
      "cloud-init                  24.4.1\r\n",
      "colorama                    0.4.6\r\n",
      "comm                        0.2.1\r\n",
      "command-not-found           0.3\r\n",
      "configobj                   5.0.8\r\n",
      "contourpy                   1.0.7\r\n",
      "coverage                    7.4.4\r\n",
      "cryptography                41.0.7\r\n",
      "cssselect                   1.2.0\r\n",
      "cupshelpers                 1.0\r\n",
      "cycler                      0.11.0\r\n",
      "dbus-python                 1.3.2\r\n",
      "debugpy                     1.8.0\r\n",
      "decorator                   5.1.1\r\n",
      "defer                       1.0.6\r\n",
      "defusedxml                  0.7.1\r\n",
      "distro                      1.9.0\r\n",
      "distro-info                 1.7+build1\r\n",
      "docutils                    0.20.1\r\n",
      "duplicity                   2.1.4\r\n",
      "entrypoints                 0.4\r\n",
      "et-xmlfile                  1.0.1\r\n",
      "executing                   2.0.1\r\n",
      "fasteners                   0.18\r\n",
      "fastjsonschema              2.19.0\r\n",
      "fonttools                   4.46.0\r\n",
      "fs                          2.4.16\r\n",
      "furo                        0.0.0\r\n",
      "galternatives               1.0.9\r\n",
      "html5lib                    1.1\r\n",
      "httplib2                    0.20.4\r\n",
      "idna                        3.6\r\n",
      "imagesize                   1.4.1\r\n",
      "importlib-metadata          4.12.0\r\n",
      "ipykernel                   6.29.3\r\n",
      "ipython                     8.20.0\r\n",
      "ipython-genutils            0.2.0\r\n",
      "ipywidgets                  8.1.1\r\n",
      "jedi                        0.19.1\r\n",
      "Jinja2                      3.1.2\r\n",
      "jsonpatch                   1.32\r\n",
      "jsonpointer                 2.0\r\n",
      "jsonschema                  4.10.3\r\n",
      "jupyter_client              7.4.9\r\n",
      "jupyter-console             6.6.3\r\n",
      "jupyter_core                5.3.2\r\n",
      "jupyterlab-pygments         0.2.2\r\n",
      "kiwisolver                  0.0.0\r\n",
      "language-selector           0.1\r\n",
      "launchpadlib                1.11.0\r\n",
      "lazr.restfulclient          0.14.6\r\n",
      "lazr.uri                    1.0.6\r\n",
      "louis                       3.29.0\r\n",
      "lxml                        5.2.1\r\n",
      "lxml-html-clean             0.1.1\r\n",
      "lz4                         4.0.2+dfsg\r\n",
      "Mako                        1.3.2.dev0\r\n",
      "markdown-it-py              3.0.0\r\n",
      "MarkupSafe                  2.1.5\r\n",
      "matplotlib                  3.6.3\r\n",
      "matplotlib-inline           0.1.6\r\n",
      "mdurl                       0.1.2\r\n",
      "mechanize                   0.4.9\r\n",
      "meson                       1.3.2\r\n",
      "monotonic                   1.6\r\n",
      "more-itertools              10.2.0\r\n",
      "mpmath                      0.0.0\r\n",
      "nbclient                    0.8.0\r\n",
      "nbconvert                   6.5.3\r\n",
      "nbformat                    5.9.1\r\n",
      "nest-asyncio                1.5.4\r\n",
      "netaddr                     0.8.0\r\n",
      "netifaces                   0.11.0\r\n",
      "notebook                    6.4.12\r\n",
      "numexpr                     2.9.0\r\n",
      "numpy                       1.26.4\r\n",
      "oauthlib                    3.2.2\r\n",
      "odfpy                       1.4.2\r\n",
      "olefile                     0.46\r\n",
      "openpyxl                    3.1.2\r\n",
      "packaging                   24.0\r\n",
      "pandas                      2.1.4+dfsg\r\n",
      "pandocfilters               1.5.0\r\n",
      "paramiko                    2.12.0\r\n",
      "parso                       0.8.3\r\n",
      "pexpect                     4.9.0\r\n",
      "pillow                      10.2.0\r\n",
      "pip                         24.0\r\n",
      "platformdirs                4.2.0\r\n",
      "prometheus-client           0.19.0\r\n",
      "prompt-toolkit              3.0.43\r\n",
      "psutil                      5.9.8\r\n",
      "ptyprocess                  0.7.0\r\n",
      "pure-eval                   0.0.0\r\n",
      "py                          1.11.0\r\n",
      "py-cpuinfo                  9.0.0\r\n",
      "pycairo                     1.25.1\r\n",
      "pycups                      2.0.1\r\n",
      "pycurl                      7.45.3\r\n",
      "pydevd                      2.10.0\r\n",
      "Pygments                    2.17.2\r\n",
      "PyGObject                   3.48.2\r\n",
      "PyJWT                       2.7.0\r\n",
      "PyNaCl                      1.5.0\r\n",
      "pyparsing                   3.1.1\r\n",
      "pyrsistent                  0.20.0\r\n",
      "pyserial                    3.5\r\n",
      "python-apt                  2.7.7+ubuntu4\r\n",
      "python-dateutil             2.8.2\r\n",
      "python-debian               0.1.49+ubuntu2\r\n",
      "pytz                        2024.1\r\n",
      "pyxdg                       0.28\r\n",
      "PyYAML                      6.0.1\r\n",
      "pyzmq                       24.0.1\r\n",
      "requests                    2.31.0\r\n",
      "rich                        13.7.1\r\n",
      "roman                       3.3\r\n",
      "SciPy                       1.11.4\r\n",
      "screen-resolution-extra     0.0.0\r\n",
      "Send2Trash                  1.8.2\r\n",
      "setuptools                  68.1.2\r\n",
      "six                         1.16.0\r\n",
      "snowballstemmer             2.2.0\r\n",
      "soupsieve                   2.5\r\n",
      "Sphinx                      7.2.6\r\n",
      "sphinx-basic-ng             1.0.0b2\r\n",
      "sphinx_inline_tabs          2023.4.21\r\n",
      "ssh-import-id               5.11\r\n",
      "stack-data                  0.6.3\r\n",
      "sympy                       1.12\r\n",
      "systemd-python              235\r\n",
      "tables                      3.9.2\r\n",
      "terminado                   0.17.1\r\n",
      "tinycss2                    1.2.1\r\n",
      "tornado                     6.4\r\n",
      "traitlets                   5.5.0\r\n",
      "types-aiofiles              23.2\r\n",
      "types-aws-xray-sdk          2.12\r\n",
      "types-beautifulsoup4        4.12\r\n",
      "types-bleach                6.1\r\n",
      "types-boltons               23.0\r\n",
      "types-boto                  2.49\r\n",
      "types-braintree             4.24\r\n",
      "types-cachetools            5.3\r\n",
      "types-caldav                1.3\r\n",
      "types-cffi                  1.16\r\n",
      "types-chevron               0.14\r\n",
      "types-click-default-group   1.2\r\n",
      "types-click-spinner         0.1\r\n",
      "types-colorama              0.4\r\n",
      "types-commonmark            0.9\r\n",
      "types-console-menu          0.8\r\n",
      "types-croniter              2.0\r\n",
      "types-dateparser            1.1\r\n",
      "types-decorator             5.1\r\n",
      "types-Deprecated            1.2\r\n",
      "types-dockerfile-parse      2.0\r\n",
      "types-docopt                0.6\r\n",
      "types-docutils              0.20\r\n",
      "types-editdistance          0.6\r\n",
      "types-entrypoints           0.4\r\n",
      "types-ExifRead              3.0\r\n",
      "types-first                 2.0\r\n",
      "types-flake8-2020           1.8\r\n",
      "types-flake8-bugbear        23.9.16\r\n",
      "types-flake8-builtins       2.2\r\n",
      "types-flake8-docstrings     1.7\r\n",
      "types-flake8-plugin-utils   1.3\r\n",
      "types-flake8-rst-docstrings 0.3\r\n",
      "types-flake8-simplify       0.21\r\n",
      "types-flake8-typing-imports 1.15\r\n",
      "types-Flask-Cors            4.0\r\n",
      "types-Flask-Migrate         4.0\r\n",
      "types-Flask-SocketIO        5.3\r\n",
      "types-fpdf2                 2.7.4\r\n",
      "types-gdb                   12.1\r\n",
      "types-google-cloud-ndb      2.2\r\n",
      "types-greenlet              3.0\r\n",
      "types-hdbcli                2.18\r\n",
      "types-html5lib              1.1\r\n",
      "types-httplib2              0.22\r\n",
      "types-humanfriendly         10.0\r\n",
      "types-ibm-db                3.2\r\n",
      "types-influxdb-client       1.38\r\n",
      "types-inifile               0.4\r\n",
      "types-JACK-Client           0.5\r\n",
      "types-jmespath              1.0\r\n",
      "types-jsonschema            4.19\r\n",
      "types-keyboard              0.13\r\n",
      "types-ldap3                 2.9\r\n",
      "types-libsass               0.22\r\n",
      "types-Markdown              3.5\r\n",
      "types-mock                  5.1\r\n",
      "types-mypy-extensions       1.0\r\n",
      "types-mysqlclient           2.2\r\n",
      "types-netaddr               0.9\r\n",
      "types-oauthlib              3.2\r\n",
      "types-openpyxl              3.1\r\n",
      "types-opentracing           2.4\r\n",
      "types-paho-mqtt             1.6\r\n",
      "types-paramiko              3.3\r\n",
      "types-parsimonious          0.10\r\n",
      "types-passlib               1.7\r\n",
      "types-passpy                1.0\r\n",
      "types-peewee                3.17\r\n",
      "types-pep8-naming           0.13\r\n",
      "types-pexpect               4.8\r\n",
      "types-pika-ts               1.3\r\n",
      "types-Pillow                10.1\r\n",
      "types-playsound             1.3\r\n",
      "types-pluggy                1.2.0\r\n",
      "types-polib                 1.2\r\n",
      "types-portpicker            1.6\r\n",
      "types-protobuf              4.24\r\n",
      "types-psutil                5.9\r\n",
      "types-psycopg2              2.9\r\n",
      "types-pyasn1                0.5\r\n",
      "types-pyaudio               0.2\r\n",
      "types-PyAutoGUI             0.9\r\n",
      "types-pycocotools           2.0\r\n",
      "types-pycurl                7.45.2\r\n",
      "types-pyfarmhash            0.3\r\n",
      "types-pyflakes              3.1\r\n",
      "types-Pygments              2.16\r\n",
      "types-pyinstaller           6.1\r\n",
      "types-pyjks                 20.0\r\n",
      "types-PyMySQL               1.1\r\n",
      "types-pynput                1.7\r\n",
      "types-pyOpenSSL             23.3\r\n",
      "types-pyRFC3339             1.1\r\n",
      "types-PyScreeze             0.1.29\r\n",
      "types-pyserial              3.5\r\n",
      "types-pysftp                0.2\r\n",
      "types-pytest-lazy-fixture   0.6\r\n",
      "types-python-crontab        3.0\r\n",
      "types-python-datemath       1.5\r\n",
      "types-python-dateutil       2.8\r\n",
      "types-python-gflags         3.1\r\n",
      "types-python-jose           3.3\r\n",
      "types-python-nmap           0.7\r\n",
      "types-python-slugify        8.0\r\n",
      "types-python-xlib           0.33\r\n",
      "types-pytz                  2023.3.post1\r\n",
      "types-pywin32               306\r\n",
      "types-pyxdg                 0.28\r\n",
      "types-PyYAML                6.0\r\n",
      "types-qrcode                7.4\r\n",
      "types-redis                 4.6.0\r\n",
      "types-regex                 2023.10.3\r\n",
      "types-requests              2.31\r\n",
      "types-requests-oauthlib     1.3\r\n",
      "types-retry                 0.9\r\n",
      "types-s2clientprotocol      5\r\n",
      "types-seaborn               0.13\r\n",
      "types-Send2Trash            1.8\r\n",
      "types-setuptools            68.2\r\n",
      "types-simplejson            3.19\r\n",
      "types-singledispatch        4.1\r\n",
      "types-six                   1.16\r\n",
      "types-slumber               0.7\r\n",
      "types-stdlib-list           0.8\r\n",
      "types-stripe                3.5\r\n",
      "types-tabulate              0.9\r\n",
      "types-tensorflow            2.12\r\n",
      "types-toml                  0.10\r\n",
      "types-toposort              1.10\r\n",
      "types-tqdm                  4.66\r\n",
      "types-translationstring     1.4\r\n",
      "types-tree-sitter           0.20.1\r\n",
      "types-tree-sitter-languages 1.8\r\n",
      "types-ttkthemes             3.2\r\n",
      "types-tzlocal               5.1\r\n",
      "types-ujson                 5.8\r\n",
      "types-untangle              1.2\r\n",
      "types-usersettings          1.1\r\n",
      "types-uWSGI                 2.0\r\n",
      "types-vobject               0.9\r\n",
      "types-waitress              2.1\r\n",
      "types-WebOb                 1.8\r\n",
      "types-whatthepatch          1.0\r\n",
      "types-workalendar           17.0\r\n",
      "types-WTForms               3.1\r\n",
      "types-xmltodict             0.13\r\n",
      "types-zstd                  1.5\r\n",
      "types-zxcvbn                4.4\r\n",
      "ubuntu-drivers-common       0.0.0\r\n",
      "ubuntu-pro-client           8001\r\n",
      "ufoLib2                     0.16.0\r\n",
      "ufw                         0.36.2\r\n",
      "unattended-upgrades         0.1\r\n",
      "unicodedata2                15.1.0\r\n",
      "urllib3                     2.0.7\r\n",
      "usb-creator                 0.3.16\r\n",
      "vboxapi                     1\r\n",
      "wadllib                     1.3.6\r\n",
      "wcwidth                     0.2.5\r\n",
      "webencodings                0.5.1\r\n",
      "wfuzz                       3.1.0\r\n",
      "wheel                       0.42.0\r\n",
      "widgetsnbextension          4.0.9\r\n",
      "xdg                         5\r\n",
      "xkit                        0.0.0\r\n",
      "zipp                        1.0.0\r\n"
     ]
    },
    {
     "name": "stdout",
     "output_type": "stream",
     "text": [
      "Note: you may need to restart the kernel to use updated packages.\n"
     ]
    }
   ],
   "source": [
    "pip list"
   ]
  },
  {
   "cell_type": "code",
   "execution_count": 17,
   "id": "a8db4585",
   "metadata": {},
   "outputs": [
    {
     "name": "stdout",
     "output_type": "stream",
     "text": [
      "Name: numpy\n",
      "Version: 1.26.4\n",
      "Summary: Fundamental package for array computing in Python\n",
      "Home-page: https://numpy.org\n",
      "Author: Travis E. Oliphant et al.\n",
      "Author-email: \n",
      "License: Copyright (c) 2005-2023, NumPy Developers.\n",
      "All rights reserved.\n",
      "\n",
      "Redistribution and use in source and binary forms, with or without\n",
      "modification, are permitted provided that the following conditions are\n",
      "met:\n",
      "\n",
      "    * Redistributions of source code must retain the above copyright\n",
      "       notice, this list of conditions and the following disclaimer.\n",
      "\n",
      "    * Redistributions in binary form must reproduce the above\n",
      "       copyright notice, this list of conditions and the following\n",
      "       disclaimer in the documentation and/or other materials provided\n",
      "       with the distribution.\n",
      "\n",
      "    * Neither the name of the NumPy Developers nor the names of any\n",
      "       contributors may be used to endorse or promote products derived\n",
      "       from this software without specific prior written permission.\n",
      "\n",
      "THIS SOFTWARE IS PROVIDED BY THE COPYRIGHT HOLDERS AND CONTRIBUTORS\n",
      "\"AS IS\" AND ANY EXPRESS OR IMPLIED WARRANTIES, INCLUDING, BUT NOT\n",
      "LIMITED TO, THE IMPLIED WARRANTIES OF MERCHANTABILITY AND FITNESS FOR\n",
      "A PARTICULAR PURPOSE ARE DISCLAIMED. IN NO EVENT SHALL THE COPYRIGHT\n",
      "OWNER OR CONTRIBUTORS BE LIABLE FOR ANY DIRECT, INDIRECT, INCIDENTAL,\n",
      "SPECIAL, EXEMPLARY, OR CONSEQUENTIAL DAMAGES (INCLUDING, BUT NOT\n",
      "LIMITED TO, PROCUREMENT OF SUBSTITUTE GOODS OR SERVICES; LOSS OF USE,\n",
      "DATA, OR PROFITS; OR BUSINESS INTERRUPTION) HOWEVER CAUSED AND ON ANY\n",
      "THEORY OF LIABILITY, WHETHER IN CONTRACT, STRICT LIABILITY, OR TORT\n",
      "(INCLUDING NEGLIGENCE OR OTHERWISE) ARISING IN ANY WAY OUT OF THE USE\n",
      "OF THIS SOFTWARE, EVEN IF ADVISED OF THE POSSIBILITY OF SUCH DAMAGE.\n",
      "Location: /usr/lib/python3/dist-packages\n",
      "Requires: \n",
      "Required-by: contourpy, numexpr, SciPy, tables, types-JACK-Client, types-seaborn, types-tensorflow\n",
      "Note: you may need to restart the kernel to use updated packages.\n"
     ]
    }
   ],
   "source": [
    "pip show numpy\n"
   ]
  },
  {
   "cell_type": "markdown",
   "id": "ee5ce423",
   "metadata": {},
   "source": [
    "# Excepciones en Python\n",
    "\n",
    "Si no manejamos la excepción el programa se parará, si la menejamos el programa no se detendrá y nos podrá dar una salida que nos informa sobre las excepciones que han saltado.\n",
    "\n",
    "* En el momento que salta un excepción las lineas que van a continuación no se ejecutarán.\n",
    "\n",
    "\n"
   ]
  },
  {
   "cell_type": "code",
   "execution_count": 18,
   "id": "274c4c41",
   "metadata": {},
   "outputs": [
    {
     "ename": "TypeError",
     "evalue": "can only concatenate str (not \"int\") to str",
     "output_type": "error",
     "traceback": [
      "\u001b[0;31m---------------------------------------------------------------------------\u001b[0m",
      "\u001b[0;31mTypeError\u001b[0m                                 Traceback (most recent call last)",
      "Cell \u001b[0;32mIn[18], line 1\u001b[0m\n\u001b[0;32m----> 1\u001b[0m \u001b[38;5;124;43m'\u001b[39;49m\u001b[38;5;124;43m2\u001b[39;49m\u001b[38;5;124;43m'\u001b[39;49m\u001b[43m \u001b[49m\u001b[38;5;241;43m+\u001b[39;49m\u001b[43m \u001b[49m\u001b[38;5;241;43m2\u001b[39;49m\n",
      "\u001b[0;31mTypeError\u001b[0m: can only concatenate str (not \"int\") to str"
     ]
    }
   ],
   "source": [
    "'2' + 2"
   ]
  },
  {
   "cell_type": "code",
   "execution_count": 20,
   "id": "5846105b",
   "metadata": {},
   "outputs": [
    {
     "name": "stdout",
     "output_type": "stream",
     "text": [
      "la Variable no se ha definido previamente\n"
     ]
    }
   ],
   "source": [
    "try:\n",
    "    print(var)\n",
    "except:\n",
    "    print(\"la Variable no se ha definido previamente\")"
   ]
  },
  {
   "cell_type": "code",
   "execution_count": null,
   "id": "ade04eee",
   "metadata": {},
   "outputs": [],
   "source": [
    "colores = ('azul', 'verde', 'morado')\n",
    "\n",
    "c = 'morado'\n",
    "\n",
    "#Lanza un excepción que puede ser captura por un try: except: y relanzarla solo usando \"raise\"\n",
    "\n",
    "if color not in colores:\n",
    "    raise Exception(f\"El color {c}, no se encuentra entre los permitidos\")\n",
    "    "
   ]
  },
  {
   "cell_type": "code",
   "execution_count": 2,
   "id": "af20d811",
   "metadata": {},
   "outputs": [
    {
     "name": "stdout",
     "output_type": "stream",
     "text": [
      "1) Error al cargar datos:  2) El archivo 'datos_reparaciones.json' no existe\n",
      "🚨 ERROR CRÍTICO: el pipeline ha fallado.\n",
      "Detalles: 2) El archivo 'datos_reparaciones.json' no existe\n"
     ]
    }
   ],
   "source": [
    "import json\n",
    "import os\n",
    "\n",
    "def cargar_datos(ruta_archivo):\n",
    "    if not os.path.exists(ruta_archivo):\n",
    "        raise FileNotFoundError(f\"2) El archivo '{ruta_archivo}' no existe\")\n",
    "\n",
    "    with open(ruta_archivo, \"r\", encoding=\"utf-8\") as f:\n",
    "        try:\n",
    "            datos = json.load(f)\n",
    "        except json.JSONDecodeError:\n",
    "            raise ValueError(\"El archivo no contiene un JSON válido\")\n",
    "\n",
    "    if not datos:\n",
    "        raise ValueError(\"El archivo está vacío\")\n",
    "\n",
    "    return datos\n",
    "\n",
    "def procesar(ruta_archivo):\n",
    "    try:\n",
    "        datos = cargar_datos(ruta_archivo)\n",
    "    except (FileNotFoundError, ValueError) as e:\n",
    "        print(\"1) Error al cargar datos: \", e)\n",
    "        raise  # relanzamos el error para que el que llama decida si abortar\n",
    "\n",
    "    # Validamos que cada entrada tenga los campos necesarios\n",
    "    for i, entrada in enumerate(datos):\n",
    "        if \"taller\" not in entrada or \"pieza\" not in entrada or \"tiempo_reparacion\" not in entrada:\n",
    "            raise ValueError(f\"Faltan campos en la entrada #{i+1}: {entrada}\")\n",
    "\n",
    "    print(\"✅ Datos cargados y validados correctamente\")\n",
    "    return datos\n",
    "\n",
    "def ejecutar_pipeline():\n",
    "    ruta = \"datos_reparaciones.json\"\n",
    "\n",
    "    try:\n",
    "        datos = procesar(ruta)\n",
    "        print(f\"🚀 Procesando {len(datos)} reparaciones...\")\n",
    "        # Aquí iría el procesamiento real (guardar en base de datos, análisis, etc.)\n",
    "    except Exception as e:\n",
    "        print(\"(Final) ERROR CRÍTICO: el pipeline ha fallado.\")\n",
    "        print(\"Detalles:\", e)\n",
    "\n",
    "#Ejecutamos\n",
    "ejecutar_pipeline()"
   ]
  },
  {
   "cell_type": "markdown",
   "id": "52dd82b7",
   "metadata": {},
   "source": [
    "# Entorno de desarrollo\n",
    "\n",
    "\n",
    "\n"
   ]
  },
  {
   "cell_type": "code",
   "execution_count": 21,
   "id": "f8b48840",
   "metadata": {},
   "outputs": [
    {
     "name": "stdout",
     "output_type": "stream",
     "text": [
      "01-syntax_and_semantics.ipynb  modulo1.py  \u001b[0m\u001b[01;34mpaquete\u001b[0m/  \u001b[01;34m__pycache__\u001b[0m/\r\n"
     ]
    }
   ],
   "source": [
    "ls"
   ]
  }
 ],
 "metadata": {
  "kernelspec": {
   "display_name": "Python 3 (ipykernel)",
   "language": "python",
   "name": "python3"
  },
  "language_info": {
   "codemirror_mode": {
    "name": "ipython",
    "version": 3
   },
   "file_extension": ".py",
   "mimetype": "text/x-python",
   "name": "python",
   "nbconvert_exporter": "python",
   "pygments_lexer": "ipython3",
   "version": "3.12.3"
  }
 },
 "nbformat": 4,
 "nbformat_minor": 5
}
