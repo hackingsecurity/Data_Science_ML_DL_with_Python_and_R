{
 "cells": [
  {
   "cell_type": "markdown",
   "id": "761ceb86-f18d-4970-87d7-a6361a9a593b",
   "metadata": {},
   "source": [
    "# Syntax and semantics\n",
    "\n",
    "La sintaxis va corresponder a un conjunto de reglas que van a definir la combinación de simbolos que se van a considerar válidos en el lenguaje.\n",
    "\n",
    "La semántica proporciona un significado determinado a esas combinaciones de símbolos que son sintácticamente válidas\n",
    "\n",
    "print(\"Hola mundo\") -> sintaxis del lenguaje de programación -> combinación de símbolos que es adecuada\n",
    "\n",
    "El interpretar este print como una función y la cadena de caracteres es lo que llamaremos semántica que le da un significado concreto.\n"
   ]
  },
  {
   "cell_type": "code",
   "execution_count": 1,
   "id": "2ffd6ab4-a43b-4b84-9dab-9dc0f949da59",
   "metadata": {},
   "outputs": [
    {
     "name": "stdout",
     "output_type": "stream",
     "text": [
      "hi world\n"
     ]
    }
   ],
   "source": [
    "print(\"hi world\") "
   ]
  },
  {
   "cell_type": "code",
   "execution_count": null,
   "id": "8274eaf1",
   "metadata": {},
   "outputs": [],
   "source": []
  }
 ],
 "metadata": {
  "kernelspec": {
   "display_name": "Python 3 (ipykernel)",
   "language": "python",
   "name": "python3"
  },
  "language_info": {
   "codemirror_mode": {
    "name": "ipython",
    "version": 3
   },
   "file_extension": ".py",
   "mimetype": "text/x-python",
   "name": "python",
   "nbconvert_exporter": "python",
   "pygments_lexer": "ipython3",
   "version": "3.12.3"
  }
 },
 "nbformat": 4,
 "nbformat_minor": 5
}
