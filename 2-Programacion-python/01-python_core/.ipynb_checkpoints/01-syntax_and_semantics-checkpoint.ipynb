{
 "cells": [
  {
   "cell_type": "markdown",
   "id": "761ceb86-f18d-4970-87d7-a6361a9a593b",
   "metadata": {},
   "source": [
    "# Syntax and semantics\n",
    "\n",
    "La sintaxis va corresponder a un conjunto de reglas que van a definir la combinación de simbolos que se van a considerar válidos en el lenguaje.\n",
    "\n",
    "La semántica proporciona un significado determinado a esas combinaciones de símbolos que son sintácticamente válidas\n",
    "\n",
    "print(\"Hola mundo\") -> sintaxis del lenguaje de programación -> combinación de símbolos que es adecuada\n",
    "\n",
    "El interpretar este print como una función y la cadena de caracteres es lo que llamaremos semántica que le da un significado concreto.\n"
   ]
  },
  {
   "cell_type": "code",
   "execution_count": 6,
   "id": "2ffd6ab4-a43b-4b84-9dab-9dc0f949da59",
   "metadata": {},
   "outputs": [
    {
     "name": "stdout",
     "output_type": "stream",
     "text": [
      "hi - world"
     ]
    }
   ],
   "source": [
    "print(\"hi\",\"world\", sep=\" - \", end=\"\") "
   ]
  },
  {
   "cell_type": "code",
   "execution_count": 20,
   "id": "13885b69",
   "metadata": {},
   "outputs": [
    {
     "name": "stdout",
     "output_type": "stream",
     "text": [
      "Prueba\n",
      "multi\n",
      "linea\n"
     ]
    }
   ],
   "source": [
    "print(\"Prueba\\n\"\n",
    "         \"multi\\n\"\n",
    "         \"linea\")"
   ]
  },
  {
   "cell_type": "code",
   "execution_count": 21,
   "id": "56d9c159",
   "metadata": {},
   "outputs": [
    {
     "name": "stdout",
     "output_type": "stream",
     "text": [
      "cadena de texto 10\n"
     ]
    }
   ],
   "source": [
    "var1 = 10\n",
    "var2 = \"hola mundo\"\n",
    "print(f\"cadena de texto {10}\")"
   ]
  },
  {
   "cell_type": "markdown",
   "id": "efc14d92",
   "metadata": {},
   "source": [
    "# Entrada de datos\n"
   ]
  },
  {
   "cell_type": "code",
   "execution_count": 13,
   "id": "8764cd1a",
   "metadata": {},
   "outputs": [
    {
     "name": "stdout",
     "output_type": "stream",
     "text": [
      "Introduce tu nombre la más puta\n",
      "Hola la más puta\n"
     ]
    }
   ],
   "source": [
    "variable_entrada = input(\"Introduce tu nombre \")\n",
    "print(\"Hola\", variable_entrada)"
   ]
  },
  {
   "cell_type": "markdown",
   "id": "52fc131b",
   "metadata": {},
   "source": [
    "# Tipos de datos\n",
    "\n",
    "Es importante conocer los tipos de datos con los que trabajamos y en python podemos conocer el tipo mediante la función que tiene interna type()"
   ]
  },
  {
   "cell_type": "code",
   "execution_count": 19,
   "id": "1f139f52",
   "metadata": {},
   "outputs": [
    {
     "name": "stdout",
     "output_type": "stream",
     "text": [
      "<class 'int'>\n",
      "<class 'float'>\n",
      "<class 'str'>\n"
     ]
    }
   ],
   "source": [
    "print(type(10))\n",
    "print(type(10.0))\n",
    "print(type(\"10\"))"
   ]
  },
  {
   "cell_type": "code",
   "execution_count": null,
   "id": "c1f0fb7d",
   "metadata": {},
   "outputs": [],
   "source": []
  }
 ],
 "metadata": {
  "kernelspec": {
   "display_name": "Python 3 (ipykernel)",
   "language": "python",
   "name": "python3"
  },
  "language_info": {
   "codemirror_mode": {
    "name": "ipython",
    "version": 3
   },
   "file_extension": ".py",
   "mimetype": "text/x-python",
   "name": "python",
   "nbconvert_exporter": "python",
   "pygments_lexer": "ipython3",
   "version": "3.12.3"
  }
 },
 "nbformat": 4,
 "nbformat_minor": 5
}
