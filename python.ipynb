{
 "cells": [
  {
   "cell_type": "markdown",
   "id": "0c5a881c-d81f-4a22-879e-001f1037d1c1",
   "metadata": {},
   "source": [
    "# Creación de markdown\n"
   ]
  },
  {
   "cell_type": "raw",
   "id": "3d52e3b9-a2d4-42a0-8264-e867427ff444",
   "metadata": {},
   "source": []
  }
 ],
 "metadata": {
  "kernelspec": {
   "display_name": "Python [conda env:pruebas]",
   "language": "python",
   "name": "conda-env-pruebas-py"
  },
  "language_info": {
   "codemirror_mode": {
    "name": "ipython",
    "version": 3
   },
   "file_extension": ".py",
   "mimetype": "text/x-python",
   "name": "python",
   "nbconvert_exporter": "python",
   "pygments_lexer": "ipython3",
   "version": "3.12.9"
  }
 },
 "nbformat": 4,
 "nbformat_minor": 5
}
